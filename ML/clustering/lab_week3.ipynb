{
 "cells": [
  {
   "metadata": {},
   "cell_type": "markdown",
   "source": [
    "# Кластеризація. Лабораторна робота №3.\n",
    "\n",
    "## 1. Імпортуємо необхідні бібліотеки\n"
   ],
   "id": "78891ae6bc42305b"
  },
  {
   "metadata": {
    "ExecuteTime": {
     "end_time": "2025-06-22T03:45:01.651701Z",
     "start_time": "2025-06-22T03:45:01.526771Z"
    }
   },
   "cell_type": "code",
   "source": [
    "import pandas as pd\n",
    "import numpy as np\n",
    "from sklearn.feature_extraction.text import CountVectorizer, TfidfVectorizer\n",
    "from sklearn.metrics.pairwise import cosine_similarity\n",
    "from sklearn.neighbors import NearestNeighbors"
   ],
   "id": "54d3329e2dac2fa2",
   "outputs": [],
   "execution_count": 168
  },
  {
   "metadata": {},
   "cell_type": "markdown",
   "source": "## 2. Читаємо датасет з інформацією про людей, що отримана з Вікіпедії.",
   "id": "42935a86fc8836e2"
  },
  {
   "metadata": {
    "ExecuteTime": {
     "end_time": "2025-06-22T03:45:01.030905Z",
     "start_time": "2025-06-21T20:59:22.536201Z"
    }
   },
   "cell_type": "code",
   "source": [
    "# Читаємо датасет\n",
    "people = pd.read_csv(\"./people_wiki.csv\")\n",
    "people"
   ],
   "id": "f16875e194aacfb9",
   "outputs": [
    {
     "data": {
      "text/plain": [
       "                                                         URI  \\\n",
       "0                <http://dbpedia.org/resource/Digby_Morrell>   \n",
       "1               <http://dbpedia.org/resource/Alfred_J._Lewy>   \n",
       "2                <http://dbpedia.org/resource/Harpdog_Brown>   \n",
       "3          <http://dbpedia.org/resource/Franz_Rottensteiner>   \n",
       "4                       <http://dbpedia.org/resource/G-Enka>   \n",
       "...                                                      ...   \n",
       "59066               <http://dbpedia.org/resource/Olari_Elts>   \n",
       "59067           <http://dbpedia.org/resource/Scott_F._Crago>   \n",
       "59068  <http://dbpedia.org/resource/David_Cass_(footballer)>   \n",
       "59069              <http://dbpedia.org/resource/Keith_Elias>   \n",
       "59070             <http://dbpedia.org/resource/Fawaz_Damrah>   \n",
       "\n",
       "                          name  \\\n",
       "0                Digby Morrell   \n",
       "1               Alfred J. Lewy   \n",
       "2                Harpdog Brown   \n",
       "3          Franz Rottensteiner   \n",
       "4                       G-Enka   \n",
       "...                        ...   \n",
       "59066               Olari Elts   \n",
       "59067           Scott F. Crago   \n",
       "59068  David Cass (footballer)   \n",
       "59069              Keith Elias   \n",
       "59070             Fawaz Damrah   \n",
       "\n",
       "                                                                                                                                                                                                                                                                                                                                                                                                                                                                                                                                                                                                                                                                                                                                                                                                                                                                                                                                                                                                                                                                                                                                                                                                                                                                                                                                                                                                                                                                                                                                                                                                                                                                                                                                                                                                                                                                                                                                                                                                                                                                                                                                                                                                                                                                                                                                                                                                                                                               text  \n",
       "0                                                                                                                                                                                                                                                                                                                                                                                                                                                                                                                                                                                                                                                                                                                                                                                                                                                                                                                           digby morrell born 10 october 1979 is a former australian rules footballer who played with the kangaroos and carlton in the australian football league aflfrom western australia morrell played his early senior football for west perth his 44game senior career for the falcons spanned 19982000 and he was the clubs leading goalkicker in 2000 at the age of 21 morrell was recruited to the australian football league by the kangaroos football club with its third round selection in the 2001 afl rookie draft as a forward he twice kicked five goals during his time with the kangaroos the first was in a losing cause against sydney in 2002 and the other the following season in a drawn game against brisbaneafter the 2003 season morrell was traded along with david teague to the carlton football club in exchange for corey mckernan he played 32 games for the blues before being delisted at the end of 2005 he continued to play victorian football league vfl football with the northern bullants carltons vflaffiliate in 2006 and acted as playing assistant coach in 2007 in 2008 he shifted to the box hill hawks before retiring from playing at the end of the season from 2009 until 2013 morrell was the senior coach of the strathmore football club in the essendon district football league leading the club to the 2011 premier division premiership since 2014 he has coached the west coburg football club also in the edflhe currently teaches physical education at parade college in melbourne  \n",
       "1                                                                                                                                                                                                                                                                                                                                                                                                                                                                                                                                                                                                                                                                                                                                                                                                                                                                                                                                        alfred j lewy aka sandy lewy graduated from university of chicago in 1973 after studying psychiatry pharmacology and ophthalmology he is a full professor and vicechair of the department of psychiatry at ohsu oregon health science university and holds an md and phd prior to moving to oregon in 1981 lewy was at the national institute of mental health nimh in bethesda maryland working with senior colleague thomas wehr in oregon he has worked closely with robert l sack as of december 2005 he had 94 publications available on pubmed he describes his research as follows my laboratory studies chronobiologic sleep and mood disorders these disorders include winter depression jet lag maladaptation to shift work and certain types of sleep disturbances relying on a very precise assay for plasma melatonin a hormone that has a clearly defined 24hour pattern of secretion biological rhythm disorders can be assessed and their treatment can be monitored current research is focused on developing bright light exposure and melatonin administration as treatment modalities for these disorders treatment must be precisely scheduled morning light exposure and evening melatonin administration cause circadian phaseadvance shifts evening light exposure and morning melatonin administration cause circadian phasedelay shifts totally blind individuals have 25hour circadian rhythms drifting an hour later each day unless they take a melatonin capsule at a certain time every day  \n",
       "2                                                                                                                                                                                                                                                                                                                                                                                                                                                                                                                                                                                                                                                                                                                                                                                                                                                                                                                                                                                                                                                                                                                 harpdog brown is a singer and harmonica player who has been active in canadas blues scene since 1982 hailing from vancouver he crossed tens of thousands of miles playing club dates and festivals in canada the northwestern united states and germanyover the years he has issued seven cds in 1995 his home is where the harp is won the muddy award for the best nw blues release from the cascade blues association in portland oregon as well that year it was nominated for a canadian juno for the best bluesgospel recording teamed up with graham guest on piano his cd naturally was voted 1 canadian blues album of 2010 by the blind lemon surveybrown tours extensively with his guitarist j arthur edmonds performing their electric mid1950s chicago blues either as a duo or with the full band while he is home he juggles a few combos working many venues big and small he also leads the harpdog brown band which is a gutsy traditional chicago blues band in 2014 they released what it is comprising mainly original songs and a few classic covers influential blues promoter and broadcaster holger petersen called what it is browns best albumhe was just awarded the maple blues award in toronto for best harmonica player in canada 2014 and was honored with a life time membership to the hamilton blues society  \n",
       "3      franz rottensteiner born in waidmannsfeld lower austria austria on 18 january 1942 is an austrian publisher and critic in the fields of science fiction and the fantasticrottensteiner studied journalism english and history at the university of vienna receiving his doctorate in 1969 he served about fifteen years as librarian and editor at the sterreichisches institut fr bauforschung in vienna in addition he produced a number of translations into german of leading sf authors including herbert w franke stanislaw lem philip k dick kobo abe cordwainer smith brian w aldiss and the strugatski brothersin 1973 his new york anthology view from another shore of european science fiction introduced a number of continental authors to the englishreading public some of the authors in the work are stanislaw lem josef nesvadba gerard klein and jeanpierre andrevonthe year 1975 saw the start of his series die phantastischen romane for seven years it republished works of both lesser and betterknown writers as well as new ones ending with a total of 28 volumes in the years 19791985 he brought out trnaslations of h g wellss works in an eighteen volumes seriesrottensteiner provoked some controversy with his negative assessment of american science fiction what matters is the highest achievements and there the us has yet to produce a figure comparable to hg wells olaf stapledon karel apek or stanisaw lem rottensteiner describedroger zelazny barry n malzberg and robert silverberg as producing travesties of fiction and stated asimov is a typical nonwriter and heinlein and andersonare just banal however rottensteiner praised philip k dick listing him as one of the greatest sf writers from 1980 through 1998 he was advisor for suhrkamp verlags phantastische bibliothek which brought out some three hundred books in all he has edited about fifty anthologies produced two illustrated books the science fiction book 1975 und the fantasy book 1978 as well as working on numerous reference works on science fiction his close association with and promotion of lem until 1995 was a factor in the recognition of the latter in the united statesrottensteiner has been the editor of quarber merkur the leading german language critical journal of science fiction since 1963 in 2004 on the occasion of the hundredth number of this journal he was awarded a special kurdlawitzpreis  \n",
       "4                                                                                                                                                                                                                                                                                                                                                                                                                                                                                                                                                                                                                                                                                                                                                                                                                                                                                                                                                                                                                                                                                                                                                                                                                                                   henry krvits born 30 december 1974 in tallinn better known by his stagename genka is an estonian rapper and record producergenka started rapping in 1996 along with revo and dj paul oja who was genkas schoolmate together they started a band called toe tag their first album the real kuhnja homophobes was released next year in 1998 genka and revo joined another estonian rap group arhm and toe tag went on vacation also genka started making his own solo songs the most famous hit was tallinn which was rapped along with droopy in 2001 during the same year toe tag came back together and started a big estonian tour in 2004 toe tag released their second studio album legendaarne legendary which consisted of 18 songs the most famous songs from the album were legendaarne and pankrot bankruptcy in 2006 genka and arhm released their new album leegion which had 23 songs the most famous songs from this album were palmisaar palm island and tugitooli gangster armchair gangstergenka and dj paul oja started their own record company legendaarne records also genka and arhm were the warmup performers for 50 cent on his 2007 europe promo tour for the curtis album in tallinn  \n",
       "...                                                                                                                                                                                                                                                                                                                                                                                                                                                                                                                                                                                                                                                                                                                                                                                                                                                                                                                                                                                                                                                                                                                                                                                                                                                                                                                                                                                                                                                                                                                                                                                                                                                                                                                                                                                                                                                                                                                                                                                                                                                                                                                                                                                                                                                                                                                                                                                                                                                             ...  \n",
       "59066                                                                                                                                                                                                                                                                                                                                                                                                                                                                                                                                                                                                                                                                                                                                                                                                                               olari elts born april 27 1971 in tallinn estonia is an estonian conductor he was the principal conductor of the latvian national symphony orchestra from 2001 to 2006 he is the founder and director of the contemporary music ensemble nyyd ensemblein september 2006 he took up the newly created position of artistic advisor of the orchestre de bretagne and he was appointed principal guest conductor of the scottish chamber orchestra from the beginning of the 200708 season also in 2007 he was appointed principal guest conductor of the estonian national symphony orchestraolari elts has conducted finnish radio yomiuri symphony orchestra dresden sinfoniker stuttgart radio symphony orchestra lucerne symphony orchestre national du capitole de touloluse city of birmingham symphony ensemble modern and the cincinnati symphony orchestra with whom he made his us debut he also visits australia and new zealand regularly appearing with orchestras including melbourne symphony orchestra adelaide symphony orchestra western australian symphony orchestra and the new zealand symphony orchestraolaris opera work includes appearances with the estonian national opera conducting brittens albert herring and puccinis il trittico as well as mozarts don giovanni and idomeneo with the estonian national symphony orchestra in autumn 2008 he conducted performances of marschners der vampyr at the rennes opera house and also in hungary in 2001 olari elts was awarded the ivth class order of the white star by his native estonia in recognition for his outstanding contribution to music  \n",
       "59067                                                                                                                                                                                                                              scott francis crago born july 26 1963 twin brother to jeff crago is an american session drummer producer and sonwriter most notably recognized for his work with the eagles as their backup drummer as well as touring with them since 1994 he has played for other artists such as venice sheryl crow bonnie raitt bryan adams stevie nicks jackson browne paul simon stevie wonder bob seger and chris isaak besides drumming he also writes songs as well as producing them but he was not always such a talented drummer when he was a bit younger and less mature as a musician in california he was in a band with trafton and gardener reynolds they had actually kicked him out because he was not good enough so that was when he had really started to progress as a drummer and a musician he is actually still friends with trafton and gardener to this day he normally visits and hangs out with trafton and gardener when he comes around to raleigh nc while on tour he actually thanks them now because they gave him the motivation he needed to become such a talented musicianwhen he was in 10th grade at greenfield high school greenfield ma the eagles had only just broken up he says yeah the funny thing is the eagles broke up when i was in tenth grade in high school to think back then when i was a fan that one day id be playing with the eagles sitting in london doing an interview cowriting songs its like yeah right i dont think so but you know the world is a crazy place and the music business is even crazier so you never know whats going to happenon the eagles farewell 1 tourlive from melbourne dvd glenn frey introduces crago as hailing from greenfield massachusettshe endorses drum workshop drums dw craviotto snare drums paiste cymbals vic firth drumsticks quikstix drumstick holders and reebok apparelscott crago and jeff obermeyer invented a drum muffling device us patent 5088376 drum workshop manufactures the device the dw procushion for drummers to place inside their bass drums for a dampened soundaside from drumming crago also does some other music duties like songwriting mostly cosongwriting including recording mixing and producing songs  \n",
       "59068                                                                                                                                                                                                                                                                                                                                                                                                                                                                                                                                                                                                                                                                                                                                                                                                                                                                                                                                                                                                                                                                                                                                                                                                                                        david william royce cass born 27 march 1962 in forest gate london is an english former footballer who played as a goalkeeper most notably for leyton orientwhilst working as a carpenter and playing in nonleague football with billericay town cass was signed by orient as cover for firstchoice keeper peter wells in march 1987 the following month wells broke his leg and cass was called up to replace him he played seven games for orient before the end of the 198687 season and kept a clean sheet in the 30 victory over cambridge united though orient narrowly missed out on the fourth division promotion playoffs on 9th may 1987 cass played against burnley fc a game which has gone down in burnley folklore burnley needed to win that day so stay in the football league having been a founder member the average home gate that season was 3257 but that day 15696 turned out at turf moor to see burnley beat leyton orient 2 1 with goals from grewcock and britton such was the importance of this game to burnley supporters the goals are still shown before every home matchin 1988 after an unsuccessful trial with colchester united cass returned to nonleague football with billericay  \n",
       "59069                                                                                                                                                                                                                                                                                                                                                                                                                                                                                                                                                                                                                                                                                                                                                                                                                                                                                                                                                                           keith hector elias born february 3 1972 in lacey township new jersey is a former american football running back in the national football league nfl and xfl he was an allamerican in high school and college where he established school conference and national records while playing for the princeton tigers football teamin high school he earned allamerican honors at lacey township high school in college he did so again for princeton university where he established 21 school records in football from 1991 through 1993 his college career coincided in the ivy league with jay fiedler who led dartmouth to three championships in that era but elias was able to lead princeton to one cochampionship elias and fiedler split the league player of the year awards during that era he is the former national collegiate athletic association ncaa football championship subdivision fcs called iaa at the time recordholder for career rushing yards per game and points per game he also established the fcs record for backtoback games total rushing yards he continues to hold numerous ivy league and princeton tigers rushing and scoring recordselias was signed as a free agent out of college by the new york giants where he played from 1994 through 1996 he served mostly on special teams he last played in the nfl two seasons with the indianapolis colts in 1998 and 1999 elias also played for the new yorknew jersey hitmen of the now defunct xfl  \n",
       "59070                                                                                                                                                                                                                                                                                                                                                                                                                                                                                                                                                                                                                                                                                                                                                                                                                                                                                                                                                                                                                                                                                             fawaz mohammed damrah arabic fawwz damra was the imam of the islamic center of parma the largest mosque in the cleveland area he participated in numerous interfaith efforts and taught at cleveland state university and the local community college a video made by steven emerson was aired on pbs in one scene damrah is shown raising money for islamic jihad he was not rehired in his teaching positions and the islamic center leadership called for him to step down but he refused the center split between his supporters and those of its trusteesdue to the statements made on the video he was convicted of concealing ties to three groups afghan refugee services the islamic committee for palestine and palestinian islamic jihad all groups the united states government classifies as terrorist organizations and of lying on his citizenship application his united states citizenship was revoked and he was deported to the palestinian west bank in january 2007the bureau of immigration and customs enforcement reported that damrah was delivered to israeli security agents at a west bank crossing controlled by israel on january 26 2007 the plain dealer cleveland ohio reported that damrah had been released from an israeli prison after three weeks in custody and returned to the west bank where he was staying with family  \n",
       "\n",
       "[59071 rows x 3 columns]"
      ],
      "text/html": [
       "<div>\n",
       "<style scoped>\n",
       "    .dataframe tbody tr th:only-of-type {\n",
       "        vertical-align: middle;\n",
       "    }\n",
       "\n",
       "    .dataframe tbody tr th {\n",
       "        vertical-align: top;\n",
       "    }\n",
       "\n",
       "    .dataframe thead th {\n",
       "        text-align: right;\n",
       "    }\n",
       "</style>\n",
       "<table border=\"1\" class=\"dataframe\">\n",
       "  <thead>\n",
       "    <tr style=\"text-align: right;\">\n",
       "      <th></th>\n",
       "      <th>URI</th>\n",
       "      <th>name</th>\n",
       "      <th>text</th>\n",
       "    </tr>\n",
       "  </thead>\n",
       "  <tbody>\n",
       "    <tr>\n",
       "      <th>0</th>\n",
       "      <td>&lt;http://dbpedia.org/resource/Digby_Morrell&gt;</td>\n",
       "      <td>Digby Morrell</td>\n",
       "      <td>digby morrell born 10 october 1979 is a former australian rules footballer who played with the kangaroos and carlton in the australian football league aflfrom western australia morrell played his early senior football for west perth his 44game senior career for the falcons spanned 19982000 and he was the clubs leading goalkicker in 2000 at the age of 21 morrell was recruited to the australian football league by the kangaroos football club with its third round selection in the 2001 afl rookie draft as a forward he twice kicked five goals during his time with the kangaroos the first was in a losing cause against sydney in 2002 and the other the following season in a drawn game against brisbaneafter the 2003 season morrell was traded along with david teague to the carlton football club in exchange for corey mckernan he played 32 games for the blues before being delisted at the end of 2005 he continued to play victorian football league vfl football with the northern bullants carltons vflaffiliate in 2006 and acted as playing assistant coach in 2007 in 2008 he shifted to the box hill hawks before retiring from playing at the end of the season from 2009 until 2013 morrell was the senior coach of the strathmore football club in the essendon district football league leading the club to the 2011 premier division premiership since 2014 he has coached the west coburg football club also in the edflhe currently teaches physical education at parade college in melbourne</td>\n",
       "    </tr>\n",
       "    <tr>\n",
       "      <th>1</th>\n",
       "      <td>&lt;http://dbpedia.org/resource/Alfred_J._Lewy&gt;</td>\n",
       "      <td>Alfred J. Lewy</td>\n",
       "      <td>alfred j lewy aka sandy lewy graduated from university of chicago in 1973 after studying psychiatry pharmacology and ophthalmology he is a full professor and vicechair of the department of psychiatry at ohsu oregon health science university and holds an md and phd prior to moving to oregon in 1981 lewy was at the national institute of mental health nimh in bethesda maryland working with senior colleague thomas wehr in oregon he has worked closely with robert l sack as of december 2005 he had 94 publications available on pubmed he describes his research as follows my laboratory studies chronobiologic sleep and mood disorders these disorders include winter depression jet lag maladaptation to shift work and certain types of sleep disturbances relying on a very precise assay for plasma melatonin a hormone that has a clearly defined 24hour pattern of secretion biological rhythm disorders can be assessed and their treatment can be monitored current research is focused on developing bright light exposure and melatonin administration as treatment modalities for these disorders treatment must be precisely scheduled morning light exposure and evening melatonin administration cause circadian phaseadvance shifts evening light exposure and morning melatonin administration cause circadian phasedelay shifts totally blind individuals have 25hour circadian rhythms drifting an hour later each day unless they take a melatonin capsule at a certain time every day</td>\n",
       "    </tr>\n",
       "    <tr>\n",
       "      <th>2</th>\n",
       "      <td>&lt;http://dbpedia.org/resource/Harpdog_Brown&gt;</td>\n",
       "      <td>Harpdog Brown</td>\n",
       "      <td>harpdog brown is a singer and harmonica player who has been active in canadas blues scene since 1982 hailing from vancouver he crossed tens of thousands of miles playing club dates and festivals in canada the northwestern united states and germanyover the years he has issued seven cds in 1995 his home is where the harp is won the muddy award for the best nw blues release from the cascade blues association in portland oregon as well that year it was nominated for a canadian juno for the best bluesgospel recording teamed up with graham guest on piano his cd naturally was voted 1 canadian blues album of 2010 by the blind lemon surveybrown tours extensively with his guitarist j arthur edmonds performing their electric mid1950s chicago blues either as a duo or with the full band while he is home he juggles a few combos working many venues big and small he also leads the harpdog brown band which is a gutsy traditional chicago blues band in 2014 they released what it is comprising mainly original songs and a few classic covers influential blues promoter and broadcaster holger petersen called what it is browns best albumhe was just awarded the maple blues award in toronto for best harmonica player in canada 2014 and was honored with a life time membership to the hamilton blues society</td>\n",
       "    </tr>\n",
       "    <tr>\n",
       "      <th>3</th>\n",
       "      <td>&lt;http://dbpedia.org/resource/Franz_Rottensteiner&gt;</td>\n",
       "      <td>Franz Rottensteiner</td>\n",
       "      <td>franz rottensteiner born in waidmannsfeld lower austria austria on 18 january 1942 is an austrian publisher and critic in the fields of science fiction and the fantasticrottensteiner studied journalism english and history at the university of vienna receiving his doctorate in 1969 he served about fifteen years as librarian and editor at the sterreichisches institut fr bauforschung in vienna in addition he produced a number of translations into german of leading sf authors including herbert w franke stanislaw lem philip k dick kobo abe cordwainer smith brian w aldiss and the strugatski brothersin 1973 his new york anthology view from another shore of european science fiction introduced a number of continental authors to the englishreading public some of the authors in the work are stanislaw lem josef nesvadba gerard klein and jeanpierre andrevonthe year 1975 saw the start of his series die phantastischen romane for seven years it republished works of both lesser and betterknown writers as well as new ones ending with a total of 28 volumes in the years 19791985 he brought out trnaslations of h g wellss works in an eighteen volumes seriesrottensteiner provoked some controversy with his negative assessment of american science fiction what matters is the highest achievements and there the us has yet to produce a figure comparable to hg wells olaf stapledon karel apek or stanisaw lem rottensteiner describedroger zelazny barry n malzberg and robert silverberg as producing travesties of fiction and stated asimov is a typical nonwriter and heinlein and andersonare just banal however rottensteiner praised philip k dick listing him as one of the greatest sf writers from 1980 through 1998 he was advisor for suhrkamp verlags phantastische bibliothek which brought out some three hundred books in all he has edited about fifty anthologies produced two illustrated books the science fiction book 1975 und the fantasy book 1978 as well as working on numerous reference works on science fiction his close association with and promotion of lem until 1995 was a factor in the recognition of the latter in the united statesrottensteiner has been the editor of quarber merkur the leading german language critical journal of science fiction since 1963 in 2004 on the occasion of the hundredth number of this journal he was awarded a special kurdlawitzpreis</td>\n",
       "    </tr>\n",
       "    <tr>\n",
       "      <th>4</th>\n",
       "      <td>&lt;http://dbpedia.org/resource/G-Enka&gt;</td>\n",
       "      <td>G-Enka</td>\n",
       "      <td>henry krvits born 30 december 1974 in tallinn better known by his stagename genka is an estonian rapper and record producergenka started rapping in 1996 along with revo and dj paul oja who was genkas schoolmate together they started a band called toe tag their first album the real kuhnja homophobes was released next year in 1998 genka and revo joined another estonian rap group arhm and toe tag went on vacation also genka started making his own solo songs the most famous hit was tallinn which was rapped along with droopy in 2001 during the same year toe tag came back together and started a big estonian tour in 2004 toe tag released their second studio album legendaarne legendary which consisted of 18 songs the most famous songs from the album were legendaarne and pankrot bankruptcy in 2006 genka and arhm released their new album leegion which had 23 songs the most famous songs from this album were palmisaar palm island and tugitooli gangster armchair gangstergenka and dj paul oja started their own record company legendaarne records also genka and arhm were the warmup performers for 50 cent on his 2007 europe promo tour for the curtis album in tallinn</td>\n",
       "    </tr>\n",
       "    <tr>\n",
       "      <th>...</th>\n",
       "      <td>...</td>\n",
       "      <td>...</td>\n",
       "      <td>...</td>\n",
       "    </tr>\n",
       "    <tr>\n",
       "      <th>59066</th>\n",
       "      <td>&lt;http://dbpedia.org/resource/Olari_Elts&gt;</td>\n",
       "      <td>Olari Elts</td>\n",
       "      <td>olari elts born april 27 1971 in tallinn estonia is an estonian conductor he was the principal conductor of the latvian national symphony orchestra from 2001 to 2006 he is the founder and director of the contemporary music ensemble nyyd ensemblein september 2006 he took up the newly created position of artistic advisor of the orchestre de bretagne and he was appointed principal guest conductor of the scottish chamber orchestra from the beginning of the 200708 season also in 2007 he was appointed principal guest conductor of the estonian national symphony orchestraolari elts has conducted finnish radio yomiuri symphony orchestra dresden sinfoniker stuttgart radio symphony orchestra lucerne symphony orchestre national du capitole de touloluse city of birmingham symphony ensemble modern and the cincinnati symphony orchestra with whom he made his us debut he also visits australia and new zealand regularly appearing with orchestras including melbourne symphony orchestra adelaide symphony orchestra western australian symphony orchestra and the new zealand symphony orchestraolaris opera work includes appearances with the estonian national opera conducting brittens albert herring and puccinis il trittico as well as mozarts don giovanni and idomeneo with the estonian national symphony orchestra in autumn 2008 he conducted performances of marschners der vampyr at the rennes opera house and also in hungary in 2001 olari elts was awarded the ivth class order of the white star by his native estonia in recognition for his outstanding contribution to music</td>\n",
       "    </tr>\n",
       "    <tr>\n",
       "      <th>59067</th>\n",
       "      <td>&lt;http://dbpedia.org/resource/Scott_F._Crago&gt;</td>\n",
       "      <td>Scott F. Crago</td>\n",
       "      <td>scott francis crago born july 26 1963 twin brother to jeff crago is an american session drummer producer and sonwriter most notably recognized for his work with the eagles as their backup drummer as well as touring with them since 1994 he has played for other artists such as venice sheryl crow bonnie raitt bryan adams stevie nicks jackson browne paul simon stevie wonder bob seger and chris isaak besides drumming he also writes songs as well as producing them but he was not always such a talented drummer when he was a bit younger and less mature as a musician in california he was in a band with trafton and gardener reynolds they had actually kicked him out because he was not good enough so that was when he had really started to progress as a drummer and a musician he is actually still friends with trafton and gardener to this day he normally visits and hangs out with trafton and gardener when he comes around to raleigh nc while on tour he actually thanks them now because they gave him the motivation he needed to become such a talented musicianwhen he was in 10th grade at greenfield high school greenfield ma the eagles had only just broken up he says yeah the funny thing is the eagles broke up when i was in tenth grade in high school to think back then when i was a fan that one day id be playing with the eagles sitting in london doing an interview cowriting songs its like yeah right i dont think so but you know the world is a crazy place and the music business is even crazier so you never know whats going to happenon the eagles farewell 1 tourlive from melbourne dvd glenn frey introduces crago as hailing from greenfield massachusettshe endorses drum workshop drums dw craviotto snare drums paiste cymbals vic firth drumsticks quikstix drumstick holders and reebok apparelscott crago and jeff obermeyer invented a drum muffling device us patent 5088376 drum workshop manufactures the device the dw procushion for drummers to place inside their bass drums for a dampened soundaside from drumming crago also does some other music duties like songwriting mostly cosongwriting including recording mixing and producing songs</td>\n",
       "    </tr>\n",
       "    <tr>\n",
       "      <th>59068</th>\n",
       "      <td>&lt;http://dbpedia.org/resource/David_Cass_(footballer)&gt;</td>\n",
       "      <td>David Cass (footballer)</td>\n",
       "      <td>david william royce cass born 27 march 1962 in forest gate london is an english former footballer who played as a goalkeeper most notably for leyton orientwhilst working as a carpenter and playing in nonleague football with billericay town cass was signed by orient as cover for firstchoice keeper peter wells in march 1987 the following month wells broke his leg and cass was called up to replace him he played seven games for orient before the end of the 198687 season and kept a clean sheet in the 30 victory over cambridge united though orient narrowly missed out on the fourth division promotion playoffs on 9th may 1987 cass played against burnley fc a game which has gone down in burnley folklore burnley needed to win that day so stay in the football league having been a founder member the average home gate that season was 3257 but that day 15696 turned out at turf moor to see burnley beat leyton orient 2 1 with goals from grewcock and britton such was the importance of this game to burnley supporters the goals are still shown before every home matchin 1988 after an unsuccessful trial with colchester united cass returned to nonleague football with billericay</td>\n",
       "    </tr>\n",
       "    <tr>\n",
       "      <th>59069</th>\n",
       "      <td>&lt;http://dbpedia.org/resource/Keith_Elias&gt;</td>\n",
       "      <td>Keith Elias</td>\n",
       "      <td>keith hector elias born february 3 1972 in lacey township new jersey is a former american football running back in the national football league nfl and xfl he was an allamerican in high school and college where he established school conference and national records while playing for the princeton tigers football teamin high school he earned allamerican honors at lacey township high school in college he did so again for princeton university where he established 21 school records in football from 1991 through 1993 his college career coincided in the ivy league with jay fiedler who led dartmouth to three championships in that era but elias was able to lead princeton to one cochampionship elias and fiedler split the league player of the year awards during that era he is the former national collegiate athletic association ncaa football championship subdivision fcs called iaa at the time recordholder for career rushing yards per game and points per game he also established the fcs record for backtoback games total rushing yards he continues to hold numerous ivy league and princeton tigers rushing and scoring recordselias was signed as a free agent out of college by the new york giants where he played from 1994 through 1996 he served mostly on special teams he last played in the nfl two seasons with the indianapolis colts in 1998 and 1999 elias also played for the new yorknew jersey hitmen of the now defunct xfl</td>\n",
       "    </tr>\n",
       "    <tr>\n",
       "      <th>59070</th>\n",
       "      <td>&lt;http://dbpedia.org/resource/Fawaz_Damrah&gt;</td>\n",
       "      <td>Fawaz Damrah</td>\n",
       "      <td>fawaz mohammed damrah arabic fawwz damra was the imam of the islamic center of parma the largest mosque in the cleveland area he participated in numerous interfaith efforts and taught at cleveland state university and the local community college a video made by steven emerson was aired on pbs in one scene damrah is shown raising money for islamic jihad he was not rehired in his teaching positions and the islamic center leadership called for him to step down but he refused the center split between his supporters and those of its trusteesdue to the statements made on the video he was convicted of concealing ties to three groups afghan refugee services the islamic committee for palestine and palestinian islamic jihad all groups the united states government classifies as terrorist organizations and of lying on his citizenship application his united states citizenship was revoked and he was deported to the palestinian west bank in january 2007the bureau of immigration and customs enforcement reported that damrah was delivered to israeli security agents at a west bank crossing controlled by israel on january 26 2007 the plain dealer cleveland ohio reported that damrah had been released from an israeli prison after three weeks in custody and returned to the west bank where he was staying with family</td>\n",
       "    </tr>\n",
       "  </tbody>\n",
       "</table>\n",
       "<p>59071 rows × 3 columns</p>\n",
       "</div>"
      ]
     },
     "execution_count": 148,
     "metadata": {},
     "output_type": "execute_result"
    }
   ],
   "execution_count": 148
  },
  {
   "metadata": {
    "ExecuteTime": {
     "end_time": "2025-06-22T03:45:01.055790500Z",
     "start_time": "2025-06-21T20:59:23.859268Z"
    }
   },
   "cell_type": "code",
   "source": [
    "# Знаходимо статтю про конкретну людину Барак Обама\n",
    "obama = people[people.name == \"Barack Obama\"].copy()\n",
    "obama.iloc[0]"
   ],
   "id": "45eb08b4f411406c",
   "outputs": [
    {
     "data": {
      "text/plain": [
       "URI                                                                                                                                                                                                                                                                                                                                                                                                                                                                                                                                                                                                                                                                                                                                                                                                                                                                                                                                                                                                                                                                                                                                                                                                                                                                                                                                                                                                                                                                                                                                                                                                                                                                                                                                                                                                                                                                                                                                                                                                                                                                                                                                                                                                                                                                                                                                                                                                                                                                                                                                                                                                                                                                                                                                                                                                                                                                                                                                                                                                                                                                                                                                                                                                                                                                                                                                                                         <http://dbpedia.org/resource/Barack_Obama>\n",
       "name                                                                                                                                                                                                                                                                                                                                                                                                                                                                                                                                                                                                                                                                                                                                                                                                                                                                                                                                                                                                                                                                                                                                                                                                                                                                                                                                                                                                                                                                                                                                                                                                                                                                                                                                                                                                                                                                                                                                                                                                                                                                                                                                                                                                                                                                                                                                                                                                                                                                                                                                                                                                                                                                                                                                                                                                                                                                                                                                                                                                                                                                                                                                                                                                                                                                                                                                                                                                      Barack Obama\n",
       "text    barack hussein obama ii brk husen bm born august 4 1961 is the 44th and current president of the united states and the first african american to hold the office born in honolulu hawaii obama is a graduate of columbia university and harvard law school where he served as president of the harvard law review he was a community organizer in chicago before earning his law degree he worked as a civil rights attorney and taught constitutional law at the university of chicago law school from 1992 to 2004 he served three terms representing the 13th district in the illinois senate from 1997 to 2004 running unsuccessfully for the united states house of representatives in 2000in 2004 obama received national attention during his campaign to represent illinois in the united states senate with his victory in the march democratic party primary his keynote address at the democratic national convention in july and his election to the senate in november he began his presidential campaign in 2007 and after a close primary campaign against hillary rodham clinton in 2008 he won sufficient delegates in the democratic party primaries to receive the presidential nomination he then defeated republican nominee john mccain in the general election and was inaugurated as president on january 20 2009 nine months after his election obama was named the 2009 nobel peace prize laureateduring his first two years in office obama signed into law economic stimulus legislation in response to the great recession in the form of the american recovery and reinvestment act of 2009 and the tax relief unemployment insurance reauthorization and job creation act of 2010 other major domestic initiatives in his first term included the patient protection and affordable care act often referred to as obamacare the doddfrank wall street reform and consumer protection act and the dont ask dont tell repeal act of 2010 in foreign policy obama ended us military involvement in the iraq war increased us troop levels in afghanistan signed the new start arms control treaty with russia ordered us military involvement in libya and ordered the military operation that resulted in the death of osama bin laden in january 2011 the republicans regained control of the house of representatives as the democratic party lost a total of 63 seats and after a lengthy debate over federal spending and whether or not to raise the nations debt limit obama signed the budget control act of 2011 and the american taxpayer relief act of 2012obama was reelected president in november 2012 defeating republican nominee mitt romney and was sworn in for a second term on january 20 2013 during his second term obama has promoted domestic policies related to gun control in response to the sandy hook elementary school shooting and has called for full equality for lgbt americans while his administration has filed briefs which urged the supreme court to strike down the defense of marriage act of 1996 and californias proposition 8 as unconstitutional in foreign policy obama ordered us military involvement in iraq in response to gains made by the islamic state in iraq after the 2011 withdrawal from iraq continued the process of ending us combat operations in afghanistan and has sought to normalize us relations with cuba\n",
       "Name: 35817, dtype: object"
      ]
     },
     "execution_count": 149,
     "metadata": {},
     "output_type": "execute_result"
    }
   ],
   "execution_count": 149
  },
  {
   "metadata": {},
   "cell_type": "markdown",
   "source": "## 3. Отримаємо кількість слів для статті Обами\n",
   "id": "9894f97dab3ab6c8"
  },
  {
   "metadata": {
    "ExecuteTime": {
     "end_time": "2025-06-22T03:45:01.058436700Z",
     "start_time": "2025-06-21T20:59:24.001571Z"
    }
   },
   "cell_type": "code",
   "source": [
    "# Векторизація документа за допомогою техніки BAG_OF_WORDS\n",
    "vectorizer = CountVectorizer()\n",
    "# Вивчення всіх унікальних слів в тексті (створення словника) та перетворення тексту в числовий вектор, де кожен елемент кількість появ відповідного слова =>\n",
    "# отримуємо розріджену матрицю частот (зберігає тільки ненульові значення та їх індекси)\n",
    "features = vectorizer.fit_transform(obama.text)\n",
    "vocab = vectorizer.get_feature_names_out()\n",
    "# Загальна кількість разів коли кожне слово зустрілося\n",
    "dist = np.sum(features.toarray(), axis=0)"
   ],
   "id": "25ac91c084ec73c0",
   "outputs": [],
   "execution_count": 150
  },
  {
   "metadata": {
    "ExecuteTime": {
     "end_time": "2025-06-22T03:45:01.062125600Z",
     "start_time": "2025-06-21T20:59:24.078115Z"
    }
   },
   "cell_type": "code",
   "source": [
    "# Створюємо таблицю частот слів\n",
    "obama_word_count_table = pd.DataFrame({'token': vocab, 'count': dist})\n",
    "# Відсортуємо її за зменшенням кількості слів та виведемо 10 найчастіших слів\n",
    "obama_word_count_table.sort_values('count', ascending=False).head(10)"
   ],
   "id": "bc39ea382bd900aa",
   "outputs": [
    {
     "data": {
      "text/plain": [
       "     token  count\n",
       "242    the     40\n",
       "115     in     30\n",
       "28     and     21\n",
       "162     of     18\n",
       "245     to     14\n",
       "106    his     11\n",
       "160  obama      9\n",
       "18     act      8\n",
       "104     he      7\n",
       "133    law      6"
      ],
      "text/html": [
       "<div>\n",
       "<style scoped>\n",
       "    .dataframe tbody tr th:only-of-type {\n",
       "        vertical-align: middle;\n",
       "    }\n",
       "\n",
       "    .dataframe tbody tr th {\n",
       "        vertical-align: top;\n",
       "    }\n",
       "\n",
       "    .dataframe thead th {\n",
       "        text-align: right;\n",
       "    }\n",
       "</style>\n",
       "<table border=\"1\" class=\"dataframe\">\n",
       "  <thead>\n",
       "    <tr style=\"text-align: right;\">\n",
       "      <th></th>\n",
       "      <th>token</th>\n",
       "      <th>count</th>\n",
       "    </tr>\n",
       "  </thead>\n",
       "  <tbody>\n",
       "    <tr>\n",
       "      <th>242</th>\n",
       "      <td>the</td>\n",
       "      <td>40</td>\n",
       "    </tr>\n",
       "    <tr>\n",
       "      <th>115</th>\n",
       "      <td>in</td>\n",
       "      <td>30</td>\n",
       "    </tr>\n",
       "    <tr>\n",
       "      <th>28</th>\n",
       "      <td>and</td>\n",
       "      <td>21</td>\n",
       "    </tr>\n",
       "    <tr>\n",
       "      <th>162</th>\n",
       "      <td>of</td>\n",
       "      <td>18</td>\n",
       "    </tr>\n",
       "    <tr>\n",
       "      <th>245</th>\n",
       "      <td>to</td>\n",
       "      <td>14</td>\n",
       "    </tr>\n",
       "    <tr>\n",
       "      <th>106</th>\n",
       "      <td>his</td>\n",
       "      <td>11</td>\n",
       "    </tr>\n",
       "    <tr>\n",
       "      <th>160</th>\n",
       "      <td>obama</td>\n",
       "      <td>9</td>\n",
       "    </tr>\n",
       "    <tr>\n",
       "      <th>18</th>\n",
       "      <td>act</td>\n",
       "      <td>8</td>\n",
       "    </tr>\n",
       "    <tr>\n",
       "      <th>104</th>\n",
       "      <td>he</td>\n",
       "      <td>7</td>\n",
       "    </tr>\n",
       "    <tr>\n",
       "      <th>133</th>\n",
       "      <td>law</td>\n",
       "      <td>6</td>\n",
       "    </tr>\n",
       "  </tbody>\n",
       "</table>\n",
       "</div>"
      ]
     },
     "execution_count": 151,
     "metadata": {},
     "output_type": "execute_result"
    }
   ],
   "execution_count": 151
  },
  {
   "metadata": {},
   "cell_type": "markdown",
   "source": "## 4. Розрахуємо TF_IDF для всієї таблиці (всього корпусу документів)\n",
   "id": "89f7934e3f477989"
  },
  {
   "metadata": {
    "ExecuteTime": {
     "end_time": "2025-06-22T03:45:01.063896Z",
     "start_time": "2025-06-21T20:59:24.171346Z"
    }
   },
   "cell_type": "code",
   "source": [
    "vectorizer_tf = TfidfVectorizer(stop_words=\"english\") # Автоматично обчислює TF, зменшує вагу слів якщо низький IDF, одразу виключаємо стоп-слова, які не несуть жодної цінності для алгоритму\n",
    "dtm = vectorizer_tf.fit_transform(people.text) # TF_IDF матриця (розріджена)"
   ],
   "id": "b4afef6629fbf260",
   "outputs": [],
   "execution_count": 152
  },
  {
   "metadata": {
    "ExecuteTime": {
     "end_time": "2025-06-22T03:45:01.063896Z",
     "start_time": "2025-06-21T20:59:39.399758Z"
    }
   },
   "cell_type": "code",
   "source": "dtm.shape # Розмірність матриці",
   "id": "30299b6110e19fd5",
   "outputs": [
    {
     "data": {
      "text/plain": [
       "(59071, 548115)"
      ]
     },
     "execution_count": 153,
     "metadata": {},
     "output_type": "execute_result"
    }
   ],
   "execution_count": 153
  },
  {
   "metadata": {
    "ExecuteTime": {
     "end_time": "2025-06-22T03:45:01.063896Z",
     "start_time": "2025-06-21T20:59:39.428893Z"
    }
   },
   "cell_type": "code",
   "source": [
    "# Отримуємо список всіх слів, які були знайдені у документах\n",
    "features_tf = vectorizer_tf.get_feature_names_out()"
   ],
   "id": "b6efcbd11d0320ac",
   "outputs": [],
   "execution_count": 154
  },
  {
   "metadata": {},
   "cell_type": "markdown",
   "source": "## 5. Вивчимо TF_IDF для статті Обами",
   "id": "9ccf9aff440633b3"
  },
  {
   "metadata": {
    "ExecuteTime": {
     "end_time": "2025-06-22T03:45:01.063896Z",
     "start_time": "2025-06-21T20:59:40.137431Z"
    }
   },
   "cell_type": "code",
   "source": "obama",
   "id": "58cd6271beebc55f",
   "outputs": [
    {
     "data": {
      "text/plain": [
       "                                              URI          name  \\\n",
       "35817  <http://dbpedia.org/resource/Barack_Obama>  Barack Obama   \n",
       "\n",
       "                                                                                                                                                                                                                                                                                                                                                                                                                                                                                                                                                                                                                                                                                                                                                                                                                                                                                                                                                                                                                                                                                                                                                                                                                                                                                                                                                                                                                                                                                                                                                                                                                                                                                                                                                                                                                                                                                                                                                                                                                                                                                                                                                                                                                                                                                                                                                                                                                                                                                                                                                                                                                                                                                                                                                                                                                                                                                                                                                                                                                                                                                                                                                                                                                                                                                                                                                                                                                 text  \n",
       "35817  barack hussein obama ii brk husen bm born august 4 1961 is the 44th and current president of the united states and the first african american to hold the office born in honolulu hawaii obama is a graduate of columbia university and harvard law school where he served as president of the harvard law review he was a community organizer in chicago before earning his law degree he worked as a civil rights attorney and taught constitutional law at the university of chicago law school from 1992 to 2004 he served three terms representing the 13th district in the illinois senate from 1997 to 2004 running unsuccessfully for the united states house of representatives in 2000in 2004 obama received national attention during his campaign to represent illinois in the united states senate with his victory in the march democratic party primary his keynote address at the democratic national convention in july and his election to the senate in november he began his presidential campaign in 2007 and after a close primary campaign against hillary rodham clinton in 2008 he won sufficient delegates in the democratic party primaries to receive the presidential nomination he then defeated republican nominee john mccain in the general election and was inaugurated as president on january 20 2009 nine months after his election obama was named the 2009 nobel peace prize laureateduring his first two years in office obama signed into law economic stimulus legislation in response to the great recession in the form of the american recovery and reinvestment act of 2009 and the tax relief unemployment insurance reauthorization and job creation act of 2010 other major domestic initiatives in his first term included the patient protection and affordable care act often referred to as obamacare the doddfrank wall street reform and consumer protection act and the dont ask dont tell repeal act of 2010 in foreign policy obama ended us military involvement in the iraq war increased us troop levels in afghanistan signed the new start arms control treaty with russia ordered us military involvement in libya and ordered the military operation that resulted in the death of osama bin laden in january 2011 the republicans regained control of the house of representatives as the democratic party lost a total of 63 seats and after a lengthy debate over federal spending and whether or not to raise the nations debt limit obama signed the budget control act of 2011 and the american taxpayer relief act of 2012obama was reelected president in november 2012 defeating republican nominee mitt romney and was sworn in for a second term on january 20 2013 during his second term obama has promoted domestic policies related to gun control in response to the sandy hook elementary school shooting and has called for full equality for lgbt americans while his administration has filed briefs which urged the supreme court to strike down the defense of marriage act of 1996 and californias proposition 8 as unconstitutional in foreign policy obama ordered us military involvement in iraq in response to gains made by the islamic state in iraq after the 2011 withdrawal from iraq continued the process of ending us combat operations in afghanistan and has sought to normalize us relations with cuba  "
      ],
      "text/html": [
       "<div>\n",
       "<style scoped>\n",
       "    .dataframe tbody tr th:only-of-type {\n",
       "        vertical-align: middle;\n",
       "    }\n",
       "\n",
       "    .dataframe tbody tr th {\n",
       "        vertical-align: top;\n",
       "    }\n",
       "\n",
       "    .dataframe thead th {\n",
       "        text-align: right;\n",
       "    }\n",
       "</style>\n",
       "<table border=\"1\" class=\"dataframe\">\n",
       "  <thead>\n",
       "    <tr style=\"text-align: right;\">\n",
       "      <th></th>\n",
       "      <th>URI</th>\n",
       "      <th>name</th>\n",
       "      <th>text</th>\n",
       "    </tr>\n",
       "  </thead>\n",
       "  <tbody>\n",
       "    <tr>\n",
       "      <th>35817</th>\n",
       "      <td>&lt;http://dbpedia.org/resource/Barack_Obama&gt;</td>\n",
       "      <td>Barack Obama</td>\n",
       "      <td>barack hussein obama ii brk husen bm born august 4 1961 is the 44th and current president of the united states and the first african american to hold the office born in honolulu hawaii obama is a graduate of columbia university and harvard law school where he served as president of the harvard law review he was a community organizer in chicago before earning his law degree he worked as a civil rights attorney and taught constitutional law at the university of chicago law school from 1992 to 2004 he served three terms representing the 13th district in the illinois senate from 1997 to 2004 running unsuccessfully for the united states house of representatives in 2000in 2004 obama received national attention during his campaign to represent illinois in the united states senate with his victory in the march democratic party primary his keynote address at the democratic national convention in july and his election to the senate in november he began his presidential campaign in 2007 and after a close primary campaign against hillary rodham clinton in 2008 he won sufficient delegates in the democratic party primaries to receive the presidential nomination he then defeated republican nominee john mccain in the general election and was inaugurated as president on january 20 2009 nine months after his election obama was named the 2009 nobel peace prize laureateduring his first two years in office obama signed into law economic stimulus legislation in response to the great recession in the form of the american recovery and reinvestment act of 2009 and the tax relief unemployment insurance reauthorization and job creation act of 2010 other major domestic initiatives in his first term included the patient protection and affordable care act often referred to as obamacare the doddfrank wall street reform and consumer protection act and the dont ask dont tell repeal act of 2010 in foreign policy obama ended us military involvement in the iraq war increased us troop levels in afghanistan signed the new start arms control treaty with russia ordered us military involvement in libya and ordered the military operation that resulted in the death of osama bin laden in january 2011 the republicans regained control of the house of representatives as the democratic party lost a total of 63 seats and after a lengthy debate over federal spending and whether or not to raise the nations debt limit obama signed the budget control act of 2011 and the american taxpayer relief act of 2012obama was reelected president in november 2012 defeating republican nominee mitt romney and was sworn in for a second term on january 20 2013 during his second term obama has promoted domestic policies related to gun control in response to the sandy hook elementary school shooting and has called for full equality for lgbt americans while his administration has filed briefs which urged the supreme court to strike down the defense of marriage act of 1996 and californias proposition 8 as unconstitutional in foreign policy obama ordered us military involvement in iraq in response to gains made by the islamic state in iraq after the 2011 withdrawal from iraq continued the process of ending us combat operations in afghanistan and has sought to normalize us relations with cuba</td>\n",
       "    </tr>\n",
       "  </tbody>\n",
       "</table>\n",
       "</div>"
      ]
     },
     "execution_count": 155,
     "metadata": {},
     "output_type": "execute_result"
    }
   ],
   "execution_count": 155
  },
  {
   "metadata": {
    "ExecuteTime": {
     "end_time": "2025-06-22T03:45:01.063896Z",
     "start_time": "2025-06-21T20:59:40.410839Z"
    }
   },
   "cell_type": "code",
   "source": [
    "# Знаходимо індекс документа про Обаму\n",
    "obama_index = obama.index[0]\n",
    "# Створюємо словник для збереження tf_idf значень\n",
    "word_scores = {}\n",
    "for i, word in enumerate(features_tf):\n",
    "    word_scores[word] = dtm[obama_index, i]\n",
    "# Створюємо таблицю для відображення tf_idf значень\n",
    "obama_word_scores = pd.DataFrame(word_scores.items(), columns=['word', 'tfidf'])\n",
    "obama_word_scores.sort_values('tfidf', ascending=False).head(10)"
   ],
   "id": "4babbbc8fc9e90f0",
   "outputs": [
    {
     "data": {
      "text/plain": [
       "               word     tfidf\n",
       "358378        obama  0.413495\n",
       "45070           act  0.282170\n",
       "259085         iraq  0.171970\n",
       "292368          law  0.163903\n",
       "138523      control  0.149369\n",
       "365249      ordered  0.138633\n",
       "328423     military  0.135368\n",
       "155872   democratic  0.129792\n",
       "417604     response  0.124821\n",
       "258530  involvement  0.124821"
      ],
      "text/html": [
       "<div>\n",
       "<style scoped>\n",
       "    .dataframe tbody tr th:only-of-type {\n",
       "        vertical-align: middle;\n",
       "    }\n",
       "\n",
       "    .dataframe tbody tr th {\n",
       "        vertical-align: top;\n",
       "    }\n",
       "\n",
       "    .dataframe thead th {\n",
       "        text-align: right;\n",
       "    }\n",
       "</style>\n",
       "<table border=\"1\" class=\"dataframe\">\n",
       "  <thead>\n",
       "    <tr style=\"text-align: right;\">\n",
       "      <th></th>\n",
       "      <th>word</th>\n",
       "      <th>tfidf</th>\n",
       "    </tr>\n",
       "  </thead>\n",
       "  <tbody>\n",
       "    <tr>\n",
       "      <th>358378</th>\n",
       "      <td>obama</td>\n",
       "      <td>0.413495</td>\n",
       "    </tr>\n",
       "    <tr>\n",
       "      <th>45070</th>\n",
       "      <td>act</td>\n",
       "      <td>0.282170</td>\n",
       "    </tr>\n",
       "    <tr>\n",
       "      <th>259085</th>\n",
       "      <td>iraq</td>\n",
       "      <td>0.171970</td>\n",
       "    </tr>\n",
       "    <tr>\n",
       "      <th>292368</th>\n",
       "      <td>law</td>\n",
       "      <td>0.163903</td>\n",
       "    </tr>\n",
       "    <tr>\n",
       "      <th>138523</th>\n",
       "      <td>control</td>\n",
       "      <td>0.149369</td>\n",
       "    </tr>\n",
       "    <tr>\n",
       "      <th>365249</th>\n",
       "      <td>ordered</td>\n",
       "      <td>0.138633</td>\n",
       "    </tr>\n",
       "    <tr>\n",
       "      <th>328423</th>\n",
       "      <td>military</td>\n",
       "      <td>0.135368</td>\n",
       "    </tr>\n",
       "    <tr>\n",
       "      <th>155872</th>\n",
       "      <td>democratic</td>\n",
       "      <td>0.129792</td>\n",
       "    </tr>\n",
       "    <tr>\n",
       "      <th>417604</th>\n",
       "      <td>response</td>\n",
       "      <td>0.124821</td>\n",
       "    </tr>\n",
       "    <tr>\n",
       "      <th>258530</th>\n",
       "      <td>involvement</td>\n",
       "      <td>0.124821</td>\n",
       "    </tr>\n",
       "  </tbody>\n",
       "</table>\n",
       "</div>"
      ]
     },
     "execution_count": 156,
     "metadata": {},
     "output_type": "execute_result"
    }
   ],
   "execution_count": 156
  },
  {
   "metadata": {},
   "cell_type": "markdown",
   "source": "## 6. Розрахунок міри подібності між людьми (Обамою, Клінтоном та Бекхемом) на базі TF_IDF за допомогою функції `cosine_similarity`.",
   "id": "6d078c2e341130b6"
  },
  {
   "metadata": {
    "ExecuteTime": {
     "end_time": "2025-06-22T03:45:01.063896Z",
     "start_time": "2025-06-21T20:59:50.388661Z"
    }
   },
   "cell_type": "code",
   "source": [
    "clinton = people[people.name == \"Bill Clinton\"]\n",
    "beckham = people[people.name == \"David Beckham\"]\n",
    "\n",
    "# Косинусна міра подібності вимірює схожість між двома векторами,\n",
    "# обчислюючи косинус кута між ними\n",
    "sim_1 = cosine_similarity(dtm[obama.index], dtm[clinton.index])\n",
    "sim_2 = cosine_similarity(dtm[obama.index], dtm[beckham.index])\n",
    "\n",
    "print(f\"Косинусна подібність між Обамою та Клінтоном: {sim_1[0]}\")\n",
    "print(f\"Косинусна подібність між Обамою та Бекхемом: {sim_2[0]}\")"
   ],
   "id": "1eb67c23058e20f8",
   "outputs": [
    {
     "name": "stdout",
     "output_type": "stream",
     "text": [
      "Косинусна подібність між Обамою та Клінтоном: [0.18896718]\n",
      "Косинусна подібність між Обамою та Бекхемом: [0.02556581]\n"
     ]
    }
   ],
   "execution_count": 157
  },
  {
   "metadata": {},
   "cell_type": "markdown",
   "source": "## 7. Використання моделі NNM (Nearest Neighbour Model)",
   "id": "1bdc5e150df443"
  },
  {
   "metadata": {
    "ExecuteTime": {
     "end_time": "2025-06-22T03:45:01.063896Z",
     "start_time": "2025-06-21T20:59:50.466249Z"
    }
   },
   "cell_type": "code",
   "source": [
    "# Створюємо модель пошуку сусідів, орієнтовану на пошук 10 найближчих\n",
    "knn_model = NearestNeighbors(n_neighbors=10)\n",
    "# Навчаємо модель на TF_IDF матриці - надаємо простір для пошуку\n",
    "knn_model.fit(dtm)"
   ],
   "id": "749700308b64c267",
   "outputs": [
    {
     "data": {
      "text/plain": [
       "NearestNeighbors(n_neighbors=10)"
      ],
      "text/html": [
       "<style>#sk-container-id-3 {\n",
       "  /* Definition of color scheme common for light and dark mode */\n",
       "  --sklearn-color-text: #000;\n",
       "  --sklearn-color-text-muted: #666;\n",
       "  --sklearn-color-line: gray;\n",
       "  /* Definition of color scheme for unfitted estimators */\n",
       "  --sklearn-color-unfitted-level-0: #fff5e6;\n",
       "  --sklearn-color-unfitted-level-1: #f6e4d2;\n",
       "  --sklearn-color-unfitted-level-2: #ffe0b3;\n",
       "  --sklearn-color-unfitted-level-3: chocolate;\n",
       "  /* Definition of color scheme for fitted estimators */\n",
       "  --sklearn-color-fitted-level-0: #f0f8ff;\n",
       "  --sklearn-color-fitted-level-1: #d4ebff;\n",
       "  --sklearn-color-fitted-level-2: #b3dbfd;\n",
       "  --sklearn-color-fitted-level-3: cornflowerblue;\n",
       "\n",
       "  /* Specific color for light theme */\n",
       "  --sklearn-color-text-on-default-background: var(--sg-text-color, var(--theme-code-foreground, var(--jp-content-font-color1, black)));\n",
       "  --sklearn-color-background: var(--sg-background-color, var(--theme-background, var(--jp-layout-color0, white)));\n",
       "  --sklearn-color-border-box: var(--sg-text-color, var(--theme-code-foreground, var(--jp-content-font-color1, black)));\n",
       "  --sklearn-color-icon: #696969;\n",
       "\n",
       "  @media (prefers-color-scheme: dark) {\n",
       "    /* Redefinition of color scheme for dark theme */\n",
       "    --sklearn-color-text-on-default-background: var(--sg-text-color, var(--theme-code-foreground, var(--jp-content-font-color1, white)));\n",
       "    --sklearn-color-background: var(--sg-background-color, var(--theme-background, var(--jp-layout-color0, #111)));\n",
       "    --sklearn-color-border-box: var(--sg-text-color, var(--theme-code-foreground, var(--jp-content-font-color1, white)));\n",
       "    --sklearn-color-icon: #878787;\n",
       "  }\n",
       "}\n",
       "\n",
       "#sk-container-id-3 {\n",
       "  color: var(--sklearn-color-text);\n",
       "}\n",
       "\n",
       "#sk-container-id-3 pre {\n",
       "  padding: 0;\n",
       "}\n",
       "\n",
       "#sk-container-id-3 input.sk-hidden--visually {\n",
       "  border: 0;\n",
       "  clip: rect(1px 1px 1px 1px);\n",
       "  clip: rect(1px, 1px, 1px, 1px);\n",
       "  height: 1px;\n",
       "  margin: -1px;\n",
       "  overflow: hidden;\n",
       "  padding: 0;\n",
       "  position: absolute;\n",
       "  width: 1px;\n",
       "}\n",
       "\n",
       "#sk-container-id-3 div.sk-dashed-wrapped {\n",
       "  border: 1px dashed var(--sklearn-color-line);\n",
       "  margin: 0 0.4em 0.5em 0.4em;\n",
       "  box-sizing: border-box;\n",
       "  padding-bottom: 0.4em;\n",
       "  background-color: var(--sklearn-color-background);\n",
       "}\n",
       "\n",
       "#sk-container-id-3 div.sk-container {\n",
       "  /* jupyter's `normalize.less` sets `[hidden] { display: none; }`\n",
       "     but bootstrap.min.css set `[hidden] { display: none !important; }`\n",
       "     so we also need the `!important` here to be able to override the\n",
       "     default hidden behavior on the sphinx rendered scikit-learn.org.\n",
       "     See: https://github.com/scikit-learn/scikit-learn/issues/21755 */\n",
       "  display: inline-block !important;\n",
       "  position: relative;\n",
       "}\n",
       "\n",
       "#sk-container-id-3 div.sk-text-repr-fallback {\n",
       "  display: none;\n",
       "}\n",
       "\n",
       "div.sk-parallel-item,\n",
       "div.sk-serial,\n",
       "div.sk-item {\n",
       "  /* draw centered vertical line to link estimators */\n",
       "  background-image: linear-gradient(var(--sklearn-color-text-on-default-background), var(--sklearn-color-text-on-default-background));\n",
       "  background-size: 2px 100%;\n",
       "  background-repeat: no-repeat;\n",
       "  background-position: center center;\n",
       "}\n",
       "\n",
       "/* Parallel-specific style estimator block */\n",
       "\n",
       "#sk-container-id-3 div.sk-parallel-item::after {\n",
       "  content: \"\";\n",
       "  width: 100%;\n",
       "  border-bottom: 2px solid var(--sklearn-color-text-on-default-background);\n",
       "  flex-grow: 1;\n",
       "}\n",
       "\n",
       "#sk-container-id-3 div.sk-parallel {\n",
       "  display: flex;\n",
       "  align-items: stretch;\n",
       "  justify-content: center;\n",
       "  background-color: var(--sklearn-color-background);\n",
       "  position: relative;\n",
       "}\n",
       "\n",
       "#sk-container-id-3 div.sk-parallel-item {\n",
       "  display: flex;\n",
       "  flex-direction: column;\n",
       "}\n",
       "\n",
       "#sk-container-id-3 div.sk-parallel-item:first-child::after {\n",
       "  align-self: flex-end;\n",
       "  width: 50%;\n",
       "}\n",
       "\n",
       "#sk-container-id-3 div.sk-parallel-item:last-child::after {\n",
       "  align-self: flex-start;\n",
       "  width: 50%;\n",
       "}\n",
       "\n",
       "#sk-container-id-3 div.sk-parallel-item:only-child::after {\n",
       "  width: 0;\n",
       "}\n",
       "\n",
       "/* Serial-specific style estimator block */\n",
       "\n",
       "#sk-container-id-3 div.sk-serial {\n",
       "  display: flex;\n",
       "  flex-direction: column;\n",
       "  align-items: center;\n",
       "  background-color: var(--sklearn-color-background);\n",
       "  padding-right: 1em;\n",
       "  padding-left: 1em;\n",
       "}\n",
       "\n",
       "\n",
       "/* Toggleable style: style used for estimator/Pipeline/ColumnTransformer box that is\n",
       "clickable and can be expanded/collapsed.\n",
       "- Pipeline and ColumnTransformer use this feature and define the default style\n",
       "- Estimators will overwrite some part of the style using the `sk-estimator` class\n",
       "*/\n",
       "\n",
       "/* Pipeline and ColumnTransformer style (default) */\n",
       "\n",
       "#sk-container-id-3 div.sk-toggleable {\n",
       "  /* Default theme specific background. It is overwritten whether we have a\n",
       "  specific estimator or a Pipeline/ColumnTransformer */\n",
       "  background-color: var(--sklearn-color-background);\n",
       "}\n",
       "\n",
       "/* Toggleable label */\n",
       "#sk-container-id-3 label.sk-toggleable__label {\n",
       "  cursor: pointer;\n",
       "  display: flex;\n",
       "  width: 100%;\n",
       "  margin-bottom: 0;\n",
       "  padding: 0.5em;\n",
       "  box-sizing: border-box;\n",
       "  text-align: center;\n",
       "  align-items: start;\n",
       "  justify-content: space-between;\n",
       "  gap: 0.5em;\n",
       "}\n",
       "\n",
       "#sk-container-id-3 label.sk-toggleable__label .caption {\n",
       "  font-size: 0.6rem;\n",
       "  font-weight: lighter;\n",
       "  color: var(--sklearn-color-text-muted);\n",
       "}\n",
       "\n",
       "#sk-container-id-3 label.sk-toggleable__label-arrow:before {\n",
       "  /* Arrow on the left of the label */\n",
       "  content: \"▸\";\n",
       "  float: left;\n",
       "  margin-right: 0.25em;\n",
       "  color: var(--sklearn-color-icon);\n",
       "}\n",
       "\n",
       "#sk-container-id-3 label.sk-toggleable__label-arrow:hover:before {\n",
       "  color: var(--sklearn-color-text);\n",
       "}\n",
       "\n",
       "/* Toggleable content - dropdown */\n",
       "\n",
       "#sk-container-id-3 div.sk-toggleable__content {\n",
       "  max-height: 0;\n",
       "  max-width: 0;\n",
       "  overflow: hidden;\n",
       "  text-align: left;\n",
       "  /* unfitted */\n",
       "  background-color: var(--sklearn-color-unfitted-level-0);\n",
       "}\n",
       "\n",
       "#sk-container-id-3 div.sk-toggleable__content.fitted {\n",
       "  /* fitted */\n",
       "  background-color: var(--sklearn-color-fitted-level-0);\n",
       "}\n",
       "\n",
       "#sk-container-id-3 div.sk-toggleable__content pre {\n",
       "  margin: 0.2em;\n",
       "  border-radius: 0.25em;\n",
       "  color: var(--sklearn-color-text);\n",
       "  /* unfitted */\n",
       "  background-color: var(--sklearn-color-unfitted-level-0);\n",
       "}\n",
       "\n",
       "#sk-container-id-3 div.sk-toggleable__content.fitted pre {\n",
       "  /* unfitted */\n",
       "  background-color: var(--sklearn-color-fitted-level-0);\n",
       "}\n",
       "\n",
       "#sk-container-id-3 input.sk-toggleable__control:checked~div.sk-toggleable__content {\n",
       "  /* Expand drop-down */\n",
       "  max-height: 200px;\n",
       "  max-width: 100%;\n",
       "  overflow: auto;\n",
       "}\n",
       "\n",
       "#sk-container-id-3 input.sk-toggleable__control:checked~label.sk-toggleable__label-arrow:before {\n",
       "  content: \"▾\";\n",
       "}\n",
       "\n",
       "/* Pipeline/ColumnTransformer-specific style */\n",
       "\n",
       "#sk-container-id-3 div.sk-label input.sk-toggleable__control:checked~label.sk-toggleable__label {\n",
       "  color: var(--sklearn-color-text);\n",
       "  background-color: var(--sklearn-color-unfitted-level-2);\n",
       "}\n",
       "\n",
       "#sk-container-id-3 div.sk-label.fitted input.sk-toggleable__control:checked~label.sk-toggleable__label {\n",
       "  background-color: var(--sklearn-color-fitted-level-2);\n",
       "}\n",
       "\n",
       "/* Estimator-specific style */\n",
       "\n",
       "/* Colorize estimator box */\n",
       "#sk-container-id-3 div.sk-estimator input.sk-toggleable__control:checked~label.sk-toggleable__label {\n",
       "  /* unfitted */\n",
       "  background-color: var(--sklearn-color-unfitted-level-2);\n",
       "}\n",
       "\n",
       "#sk-container-id-3 div.sk-estimator.fitted input.sk-toggleable__control:checked~label.sk-toggleable__label {\n",
       "  /* fitted */\n",
       "  background-color: var(--sklearn-color-fitted-level-2);\n",
       "}\n",
       "\n",
       "#sk-container-id-3 div.sk-label label.sk-toggleable__label,\n",
       "#sk-container-id-3 div.sk-label label {\n",
       "  /* The background is the default theme color */\n",
       "  color: var(--sklearn-color-text-on-default-background);\n",
       "}\n",
       "\n",
       "/* On hover, darken the color of the background */\n",
       "#sk-container-id-3 div.sk-label:hover label.sk-toggleable__label {\n",
       "  color: var(--sklearn-color-text);\n",
       "  background-color: var(--sklearn-color-unfitted-level-2);\n",
       "}\n",
       "\n",
       "/* Label box, darken color on hover, fitted */\n",
       "#sk-container-id-3 div.sk-label.fitted:hover label.sk-toggleable__label.fitted {\n",
       "  color: var(--sklearn-color-text);\n",
       "  background-color: var(--sklearn-color-fitted-level-2);\n",
       "}\n",
       "\n",
       "/* Estimator label */\n",
       "\n",
       "#sk-container-id-3 div.sk-label label {\n",
       "  font-family: monospace;\n",
       "  font-weight: bold;\n",
       "  display: inline-block;\n",
       "  line-height: 1.2em;\n",
       "}\n",
       "\n",
       "#sk-container-id-3 div.sk-label-container {\n",
       "  text-align: center;\n",
       "}\n",
       "\n",
       "/* Estimator-specific */\n",
       "#sk-container-id-3 div.sk-estimator {\n",
       "  font-family: monospace;\n",
       "  border: 1px dotted var(--sklearn-color-border-box);\n",
       "  border-radius: 0.25em;\n",
       "  box-sizing: border-box;\n",
       "  margin-bottom: 0.5em;\n",
       "  /* unfitted */\n",
       "  background-color: var(--sklearn-color-unfitted-level-0);\n",
       "}\n",
       "\n",
       "#sk-container-id-3 div.sk-estimator.fitted {\n",
       "  /* fitted */\n",
       "  background-color: var(--sklearn-color-fitted-level-0);\n",
       "}\n",
       "\n",
       "/* on hover */\n",
       "#sk-container-id-3 div.sk-estimator:hover {\n",
       "  /* unfitted */\n",
       "  background-color: var(--sklearn-color-unfitted-level-2);\n",
       "}\n",
       "\n",
       "#sk-container-id-3 div.sk-estimator.fitted:hover {\n",
       "  /* fitted */\n",
       "  background-color: var(--sklearn-color-fitted-level-2);\n",
       "}\n",
       "\n",
       "/* Specification for estimator info (e.g. \"i\" and \"?\") */\n",
       "\n",
       "/* Common style for \"i\" and \"?\" */\n",
       "\n",
       ".sk-estimator-doc-link,\n",
       "a:link.sk-estimator-doc-link,\n",
       "a:visited.sk-estimator-doc-link {\n",
       "  float: right;\n",
       "  font-size: smaller;\n",
       "  line-height: 1em;\n",
       "  font-family: monospace;\n",
       "  background-color: var(--sklearn-color-background);\n",
       "  border-radius: 1em;\n",
       "  height: 1em;\n",
       "  width: 1em;\n",
       "  text-decoration: none !important;\n",
       "  margin-left: 0.5em;\n",
       "  text-align: center;\n",
       "  /* unfitted */\n",
       "  border: var(--sklearn-color-unfitted-level-1) 1pt solid;\n",
       "  color: var(--sklearn-color-unfitted-level-1);\n",
       "}\n",
       "\n",
       ".sk-estimator-doc-link.fitted,\n",
       "a:link.sk-estimator-doc-link.fitted,\n",
       "a:visited.sk-estimator-doc-link.fitted {\n",
       "  /* fitted */\n",
       "  border: var(--sklearn-color-fitted-level-1) 1pt solid;\n",
       "  color: var(--sklearn-color-fitted-level-1);\n",
       "}\n",
       "\n",
       "/* On hover */\n",
       "div.sk-estimator:hover .sk-estimator-doc-link:hover,\n",
       ".sk-estimator-doc-link:hover,\n",
       "div.sk-label-container:hover .sk-estimator-doc-link:hover,\n",
       ".sk-estimator-doc-link:hover {\n",
       "  /* unfitted */\n",
       "  background-color: var(--sklearn-color-unfitted-level-3);\n",
       "  color: var(--sklearn-color-background);\n",
       "  text-decoration: none;\n",
       "}\n",
       "\n",
       "div.sk-estimator.fitted:hover .sk-estimator-doc-link.fitted:hover,\n",
       ".sk-estimator-doc-link.fitted:hover,\n",
       "div.sk-label-container:hover .sk-estimator-doc-link.fitted:hover,\n",
       ".sk-estimator-doc-link.fitted:hover {\n",
       "  /* fitted */\n",
       "  background-color: var(--sklearn-color-fitted-level-3);\n",
       "  color: var(--sklearn-color-background);\n",
       "  text-decoration: none;\n",
       "}\n",
       "\n",
       "/* Span, style for the box shown on hovering the info icon */\n",
       ".sk-estimator-doc-link span {\n",
       "  display: none;\n",
       "  z-index: 9999;\n",
       "  position: relative;\n",
       "  font-weight: normal;\n",
       "  right: .2ex;\n",
       "  padding: .5ex;\n",
       "  margin: .5ex;\n",
       "  width: min-content;\n",
       "  min-width: 20ex;\n",
       "  max-width: 50ex;\n",
       "  color: var(--sklearn-color-text);\n",
       "  box-shadow: 2pt 2pt 4pt #999;\n",
       "  /* unfitted */\n",
       "  background: var(--sklearn-color-unfitted-level-0);\n",
       "  border: .5pt solid var(--sklearn-color-unfitted-level-3);\n",
       "}\n",
       "\n",
       ".sk-estimator-doc-link.fitted span {\n",
       "  /* fitted */\n",
       "  background: var(--sklearn-color-fitted-level-0);\n",
       "  border: var(--sklearn-color-fitted-level-3);\n",
       "}\n",
       "\n",
       ".sk-estimator-doc-link:hover span {\n",
       "  display: block;\n",
       "}\n",
       "\n",
       "/* \"?\"-specific style due to the `<a>` HTML tag */\n",
       "\n",
       "#sk-container-id-3 a.estimator_doc_link {\n",
       "  float: right;\n",
       "  font-size: 1rem;\n",
       "  line-height: 1em;\n",
       "  font-family: monospace;\n",
       "  background-color: var(--sklearn-color-background);\n",
       "  border-radius: 1rem;\n",
       "  height: 1rem;\n",
       "  width: 1rem;\n",
       "  text-decoration: none;\n",
       "  /* unfitted */\n",
       "  color: var(--sklearn-color-unfitted-level-1);\n",
       "  border: var(--sklearn-color-unfitted-level-1) 1pt solid;\n",
       "}\n",
       "\n",
       "#sk-container-id-3 a.estimator_doc_link.fitted {\n",
       "  /* fitted */\n",
       "  border: var(--sklearn-color-fitted-level-1) 1pt solid;\n",
       "  color: var(--sklearn-color-fitted-level-1);\n",
       "}\n",
       "\n",
       "/* On hover */\n",
       "#sk-container-id-3 a.estimator_doc_link:hover {\n",
       "  /* unfitted */\n",
       "  background-color: var(--sklearn-color-unfitted-level-3);\n",
       "  color: var(--sklearn-color-background);\n",
       "  text-decoration: none;\n",
       "}\n",
       "\n",
       "#sk-container-id-3 a.estimator_doc_link.fitted:hover {\n",
       "  /* fitted */\n",
       "  background-color: var(--sklearn-color-fitted-level-3);\n",
       "}\n",
       "</style><div id=\"sk-container-id-3\" class=\"sk-top-container\"><div class=\"sk-text-repr-fallback\"><pre>NearestNeighbors(n_neighbors=10)</pre><b>In a Jupyter environment, please rerun this cell to show the HTML representation or trust the notebook. <br />On GitHub, the HTML representation is unable to render, please try loading this page with nbviewer.org.</b></div><div class=\"sk-container\" hidden><div class=\"sk-item\"><div class=\"sk-estimator fitted sk-toggleable\"><input class=\"sk-toggleable__control sk-hidden--visually\" id=\"sk-estimator-id-3\" type=\"checkbox\" checked><label for=\"sk-estimator-id-3\" class=\"sk-toggleable__label fitted sk-toggleable__label-arrow\"><div><div>NearestNeighbors</div></div><div><a class=\"sk-estimator-doc-link fitted\" rel=\"noreferrer\" target=\"_blank\" href=\"https://scikit-learn.org/1.6/modules/generated/sklearn.neighbors.NearestNeighbors.html\">?<span>Documentation for NearestNeighbors</span></a><span class=\"sk-estimator-doc-link fitted\">i<span>Fitted</span></span></div></label><div class=\"sk-toggleable__content fitted\"><pre>NearestNeighbors(n_neighbors=10)</pre></div> </div></div></div></div>"
      ]
     },
     "execution_count": 158,
     "metadata": {},
     "output_type": "execute_result"
    }
   ],
   "execution_count": 158
  },
  {
   "metadata": {},
   "cell_type": "markdown",
   "source": "## 8. Шукаємо найближчих людей до Обами",
   "id": "66e9594beb06d335"
  },
  {
   "metadata": {
    "ExecuteTime": {
     "end_time": "2025-06-22T03:45:01.072330500Z",
     "start_time": "2025-06-21T20:59:50.523703Z"
    }
   },
   "cell_type": "code",
   "source": [
    "# Шукаємо найближчих до Обами\n",
    "distances, indices = knn_model.kneighbors(dtm[obama.index], return_distance=True)\n",
    "# Виводимо таблицю знайдених найближчих людей\n",
    "nearest_df = pd.DataFrame({'names': people.loc[indices[0]].name, \"distance\": distances[0]})\n",
    "nearest_df.sort_values(by=\"distance\").head(10)"
   ],
   "id": "ff27a978ba9385f5",
   "outputs": [
    {
     "data": {
      "text/plain": [
       "                         names  distance\n",
       "35817             Barack Obama  0.000000\n",
       "24478                Joe Biden  1.165145\n",
       "38376           Samantha Power  1.207369\n",
       "57108   Hillary Rodham Clinton  1.219640\n",
       "38714  Eric Stern (politician)  1.222509\n",
       "46140             Robert Gibbs  1.236178\n",
       "18827             Henry Waxman  1.243057\n",
       "44681   Jesse Lee (politician)  1.244667\n",
       "6796               Eric Holder  1.248296\n",
       "2412           Joe the Plumber  1.251607"
      ],
      "text/html": [
       "<div>\n",
       "<style scoped>\n",
       "    .dataframe tbody tr th:only-of-type {\n",
       "        vertical-align: middle;\n",
       "    }\n",
       "\n",
       "    .dataframe tbody tr th {\n",
       "        vertical-align: top;\n",
       "    }\n",
       "\n",
       "    .dataframe thead th {\n",
       "        text-align: right;\n",
       "    }\n",
       "</style>\n",
       "<table border=\"1\" class=\"dataframe\">\n",
       "  <thead>\n",
       "    <tr style=\"text-align: right;\">\n",
       "      <th></th>\n",
       "      <th>names</th>\n",
       "      <th>distance</th>\n",
       "    </tr>\n",
       "  </thead>\n",
       "  <tbody>\n",
       "    <tr>\n",
       "      <th>35817</th>\n",
       "      <td>Barack Obama</td>\n",
       "      <td>0.000000</td>\n",
       "    </tr>\n",
       "    <tr>\n",
       "      <th>24478</th>\n",
       "      <td>Joe Biden</td>\n",
       "      <td>1.165145</td>\n",
       "    </tr>\n",
       "    <tr>\n",
       "      <th>38376</th>\n",
       "      <td>Samantha Power</td>\n",
       "      <td>1.207369</td>\n",
       "    </tr>\n",
       "    <tr>\n",
       "      <th>57108</th>\n",
       "      <td>Hillary Rodham Clinton</td>\n",
       "      <td>1.219640</td>\n",
       "    </tr>\n",
       "    <tr>\n",
       "      <th>38714</th>\n",
       "      <td>Eric Stern (politician)</td>\n",
       "      <td>1.222509</td>\n",
       "    </tr>\n",
       "    <tr>\n",
       "      <th>46140</th>\n",
       "      <td>Robert Gibbs</td>\n",
       "      <td>1.236178</td>\n",
       "    </tr>\n",
       "    <tr>\n",
       "      <th>18827</th>\n",
       "      <td>Henry Waxman</td>\n",
       "      <td>1.243057</td>\n",
       "    </tr>\n",
       "    <tr>\n",
       "      <th>44681</th>\n",
       "      <td>Jesse Lee (politician)</td>\n",
       "      <td>1.244667</td>\n",
       "    </tr>\n",
       "    <tr>\n",
       "      <th>6796</th>\n",
       "      <td>Eric Holder</td>\n",
       "      <td>1.248296</td>\n",
       "    </tr>\n",
       "    <tr>\n",
       "      <th>2412</th>\n",
       "      <td>Joe the Plumber</td>\n",
       "      <td>1.251607</td>\n",
       "    </tr>\n",
       "  </tbody>\n",
       "</table>\n",
       "</div>"
      ]
     },
     "execution_count": 159,
     "metadata": {},
     "output_type": "execute_result"
    }
   ],
   "execution_count": 159
  },
  {
   "metadata": {},
   "cell_type": "markdown",
   "source": "## Домашнє завдання",
   "id": "3689638d31f50ade"
  },
  {
   "metadata": {},
   "cell_type": "markdown",
   "source": [
    " 1. Вивести перших 5 слів і їх кількість в тексті про людину по варіанту (__#5 Carrie Underwood__) при представленні тексту за допомогою dtm, а також і TF_IDF.\n",
    " Вивести текст про задану людину."
   ],
   "id": "b0b0c14c814eb153"
  },
  {
   "metadata": {
    "ExecuteTime": {
     "end_time": "2025-06-22T03:45:01.074343800Z",
     "start_time": "2025-06-21T20:59:50.997511Z"
    }
   },
   "cell_type": "code",
   "source": [
    "# Виводимо текст про задану людину\n",
    "carrie = people[people.name == \"Carrie Underwood\"]\n",
    "carrie.iloc[0].text"
   ],
   "id": "e0dc41fe84a016a9",
   "outputs": [
    {
     "data": {
      "text/plain": [
       "'carrie marie underwood born march 10 1983 is an american singer songwriter and actress she rose to fame as the winner of the fourth season of american idol in 2005 underwood has since become one of the most prominent mainstream recording artists in the music industry setting and breaking several records throughout her career her achievements led her to be inducted into the grand ole opry in 2008 and into the oklahoma music hall of fame in 2009 she has won a vast array of awards including six grammy awards sixteen billboard music awards eleven academy of country music awards and eight american music awards along with being nominated for a golden globe award for best original songher debut album some hearts was released in 2005 bolstered by the huge crossover success of the singles jesus take the wheel and before he cheats it went on to become the fastest selling debut country album in nielsen soundscan history the bestselling solo female debut album in country music history and the bestselling country album of the last ten years underwood won three grammy awards for the album including best new artist her second album carnival ride released in 2007 had one of the biggest ever opening weeks by a female artist and earned underwood two grammy awards for the singles last name and i told you so her next two albums 2009s play on and 2012s blown away were both their years second bestselling release by a female artist the former spawned the successful single cowboy casanova and the latters single blown away won underwood a grammy award with more than 64 million records sold globally her tour revenues and a net worth estimated by forbes at over 110 million underwood is the biggest american idol earner of all timerecognized by rolling stone as the female vocalist of her generation in any genre and by billboard as country musics reigning queen underwood is the only solo country artist in the 2000s to have a number one hit on the billboard hot 100 and the first and only country artist to ever debut at number one on the hot 100 as inside your heaven topped the chart in 2005 she is also the female country artist with the most no 1 hits on the billboard hot country songs chart from 1991 to present having 14 number ones and breaking her own guinness book record of ten some hearts was named the no 1 country album of the 2000s by billboard and she was the topranked female artist on billboards best country artists of the 2000s list time has listed underwood as one of the 100 most influential people in the world'"
      ]
     },
     "execution_count": 160,
     "metadata": {},
     "output_type": "execute_result"
    }
   ],
   "execution_count": 160
  },
  {
   "metadata": {
    "ExecuteTime": {
     "end_time": "2025-06-22T03:45:01.074343800Z",
     "start_time": "2025-06-21T20:59:51.059903Z"
    }
   },
   "cell_type": "code",
   "source": [
    "# Представляємо текст за допомогою dtm (document-term matrix)\n",
    "vectorizer_count = CountVectorizer()\n",
    "# Створюємо словник для статті про Керрі та векторизуємо документ (за BAG_OF_WORDS)\n",
    "features_1 = vectorizer_count.fit_transform(carrie.text)\n",
    "vocab_1 = vectorizer_count.get_feature_names_out()\n",
    "# Загальна кількість разів коли кожне слово зустрілося\n",
    "count = np.sum(features_1.toarray(), axis=0)\n",
    "# Створюємо табличне представлення dtm\n",
    "carrie_word_count_table = pd.DataFrame({'token': vocab_1, 'count': count})\n",
    "carrie_word_count_table.sort_values(\"count\", ascending=False).head(5)"
   ],
   "id": "cc65fe58fdb95896",
   "outputs": [
    {
     "data": {
      "text/plain": [
       "       token  count\n",
       "184      the     36\n",
       "24       and     16\n",
       "130       of     15\n",
       "98        in     12\n",
       "56   country     11"
      ],
      "text/html": [
       "<div>\n",
       "<style scoped>\n",
       "    .dataframe tbody tr th:only-of-type {\n",
       "        vertical-align: middle;\n",
       "    }\n",
       "\n",
       "    .dataframe tbody tr th {\n",
       "        vertical-align: top;\n",
       "    }\n",
       "\n",
       "    .dataframe thead th {\n",
       "        text-align: right;\n",
       "    }\n",
       "</style>\n",
       "<table border=\"1\" class=\"dataframe\">\n",
       "  <thead>\n",
       "    <tr style=\"text-align: right;\">\n",
       "      <th></th>\n",
       "      <th>token</th>\n",
       "      <th>count</th>\n",
       "    </tr>\n",
       "  </thead>\n",
       "  <tbody>\n",
       "    <tr>\n",
       "      <th>184</th>\n",
       "      <td>the</td>\n",
       "      <td>36</td>\n",
       "    </tr>\n",
       "    <tr>\n",
       "      <th>24</th>\n",
       "      <td>and</td>\n",
       "      <td>16</td>\n",
       "    </tr>\n",
       "    <tr>\n",
       "      <th>130</th>\n",
       "      <td>of</td>\n",
       "      <td>15</td>\n",
       "    </tr>\n",
       "    <tr>\n",
       "      <th>98</th>\n",
       "      <td>in</td>\n",
       "      <td>12</td>\n",
       "    </tr>\n",
       "    <tr>\n",
       "      <th>56</th>\n",
       "      <td>country</td>\n",
       "      <td>11</td>\n",
       "    </tr>\n",
       "  </tbody>\n",
       "</table>\n",
       "</div>"
      ]
     },
     "execution_count": 161,
     "metadata": {},
     "output_type": "execute_result"
    }
   ],
   "execution_count": 161
  },
  {
   "metadata": {
    "ExecuteTime": {
     "end_time": "2025-06-22T03:45:01.076356400Z",
     "start_time": "2025-06-21T20:59:51.168005Z"
    }
   },
   "cell_type": "code",
   "source": [
    "# Аналізуємо TF_IDF для даної статті про Керрі\n",
    "# Створюємо словник для збереження tf_idf значень\n",
    "word_scores_1 = {}\n",
    "for i, word in enumerate(features_tf):\n",
    "    word_scores_1[word] = dtm[carrie.index[0], i]\n",
    "# Створюємо таблицю для відображення tf_idf значень\n",
    "carrie_word_count_table = pd.DataFrame(word_scores_1.items(), columns=[\"token\", \"tf_idf\"])\n",
    "carrie_word_count_table.sort_values(\"tf_idf\", ascending=False).head(5)"
   ],
   "id": "6631bcc10f64a643",
   "outputs": [
    {
     "data": {
      "text/plain": [
       "            token    tf_idf\n",
       "508279  underwood  0.519588\n",
       "141830    country  0.314403\n",
       "194489     female  0.210140\n",
       "89613   billboard  0.207110\n",
       "52523       album  0.187929"
      ],
      "text/html": [
       "<div>\n",
       "<style scoped>\n",
       "    .dataframe tbody tr th:only-of-type {\n",
       "        vertical-align: middle;\n",
       "    }\n",
       "\n",
       "    .dataframe tbody tr th {\n",
       "        vertical-align: top;\n",
       "    }\n",
       "\n",
       "    .dataframe thead th {\n",
       "        text-align: right;\n",
       "    }\n",
       "</style>\n",
       "<table border=\"1\" class=\"dataframe\">\n",
       "  <thead>\n",
       "    <tr style=\"text-align: right;\">\n",
       "      <th></th>\n",
       "      <th>token</th>\n",
       "      <th>tf_idf</th>\n",
       "    </tr>\n",
       "  </thead>\n",
       "  <tbody>\n",
       "    <tr>\n",
       "      <th>508279</th>\n",
       "      <td>underwood</td>\n",
       "      <td>0.519588</td>\n",
       "    </tr>\n",
       "    <tr>\n",
       "      <th>141830</th>\n",
       "      <td>country</td>\n",
       "      <td>0.314403</td>\n",
       "    </tr>\n",
       "    <tr>\n",
       "      <th>194489</th>\n",
       "      <td>female</td>\n",
       "      <td>0.210140</td>\n",
       "    </tr>\n",
       "    <tr>\n",
       "      <th>89613</th>\n",
       "      <td>billboard</td>\n",
       "      <td>0.207110</td>\n",
       "    </tr>\n",
       "    <tr>\n",
       "      <th>52523</th>\n",
       "      <td>album</td>\n",
       "      <td>0.187929</td>\n",
       "    </tr>\n",
       "  </tbody>\n",
       "</table>\n",
       "</div>"
      ]
     },
     "execution_count": 162,
     "metadata": {},
     "output_type": "execute_result"
    }
   ],
   "execution_count": 162
  },
  {
   "metadata": {},
   "cell_type": "markdown",
   "source": "2. Вивести відстань між двома людьми по варіанту (__#5 Carrie Underwood and Kelly Ayotte__), також текст про другу людину і провести інтерпретацію результату.",
   "id": "80979650d41dd510"
  },
  {
   "metadata": {
    "ExecuteTime": {
     "end_time": "2025-06-22T03:45:01.078366800Z",
     "start_time": "2025-06-21T21:00:01.924684Z"
    }
   },
   "cell_type": "code",
   "source": [
    "# Знаходимо рядок Kelly Ayotte та виводимо текст\n",
    "kelly = people[people.name == \"Kelly Ayotte\"]\n",
    "kelly.iloc[0].text"
   ],
   "id": "6eb0ed5a019192da",
   "outputs": [
    {
     "data": {
      "text/plain": [
       "'kelly ann ayotte et ayot born june 27 1968 is an american politician and the junior united states senator from new hampshire serving since 2011 a member of the republican party she is the second youngest of the 20 female senators and the eleventhyoungest overallborn in nashua new hampshire ayotte is a graduate of pennsylvania state university and villanova university school of law she worked as a law clerk for the new hampshire supreme court before entering private practice she also worked as a prosecutor for the new hampshire department of justice and briefly served as the legal counsel to new hampshire governor craig benson before returning to the department of justice to serve as deputy attorney general of new hampshire in june 2004 governor benson appointed ayotte as attorney general of new hampshire after the resignation of peter heed she became new hampshires first woman attorney general serving from 2004 to 2009 after she was twice reappointed by democratic governor john lynch in july 2009 ayotte resigned as attorney general to pursue a bid for the us senate after three term incumbent judd gregg announced his retirement from the senatein september 2010 ayotte won a close victory over lawyer ovide m lamontagne in the republican primary for the us senate she then defeated democratic congressman paul hodes with 60 of the vote in the general election and was later sworn into the us senate as a member of the 112th congress on january 3 2011 ayotte was mentioned as a possible running mate for republican nominee mitt romney in the 2012 presidential election an august 2013 cover story by newsmax magazine named ayotte no 1 among the 25 most influential women in the gop calling her an emerging force in congress'"
      ]
     },
     "execution_count": 163,
     "metadata": {},
     "output_type": "execute_result"
    }
   ],
   "execution_count": 163
  },
  {
   "metadata": {
    "ExecuteTime": {
     "end_time": "2025-06-22T03:45:01.078366800Z",
     "start_time": "2025-06-21T21:00:01.987413Z"
    }
   },
   "cell_type": "code",
   "source": [
    "# Знаходимо подібність (відстань) між Керрі та Келлі за косинусною мірою подібності\n",
    "sim_result = cosine_similarity(dtm[carrie.index], dtm[kelly.index])\n",
    "print(f\"Косинусна подібність між Керрі та Келлі: {sim_result[0,0]:.3f}\")"
   ],
   "id": "8213af207c5beddf",
   "outputs": [
    {
     "name": "stdout",
     "output_type": "stream",
     "text": [
      "Косинусна подібність між Керрі та Келлі: 0.016\n"
     ]
    }
   ],
   "execution_count": 164
  },
  {
   "metadata": {},
   "cell_type": "markdown",
   "source": [
    "#### Інтерпретація результатів\n",
    "Отримане значення косинусної подібності 0.016 вказує на дуже низьку схожість між текстами про Керрі та Келлі. Це означає, що ці тексти майже не мають спільних слів або тем."
   ],
   "id": "57e50cba9b33819f"
  },
  {
   "metadata": {},
   "cell_type": "markdown",
   "source": [
    "3. Побудувати NNM-модель на базі TF_IDF (використовуючи міру для відстані\n",
    "cosine). Знайти найближчих сусідів для людини по варіанту із таблиці завдання Вивести тексти для перших двох найближчих сусідів, перевірити правильність роботи моделі."
   ],
   "id": "6265a5892d55651a"
  },
  {
   "metadata": {
    "ExecuteTime": {
     "end_time": "2025-06-22T03:45:01.080375800Z",
     "start_time": "2025-06-21T21:00:02.029523Z"
    }
   },
   "cell_type": "code",
   "source": [
    "# Будуємо NNM-модель\n",
    "knn_model_1 = NearestNeighbors(n_neighbors=5, metric='cosine')\n",
    "knn_model_1.fit(dtm)\n",
    "# Шукаємо найближчих людей до Келлі\n",
    "distances_1, indices_1 = knn_model_1.kneighbors(dtm[carrie.index], return_distance=True)\n",
    "# Виводимо таблицю знайдених найближчих людей\n",
    "carrie_nearest_df = pd.DataFrame({'names': people.loc[indices_1[0]].name, \"distance\": distances_1[0]})\n",
    "carrie_nearest_df.sort_values(by=\"distance\").head(5)"
   ],
   "id": "3aae10602a9f30f8",
   "outputs": [
    {
     "data": {
      "text/plain": [
       "                  names  distance\n",
       "317    Carrie Underwood  0.000000\n",
       "29297    Kelly Clarkson  0.632841\n",
       "508          Faith Hill  0.652212\n",
       "27793             Adele  0.653539\n",
       "38592   Billy Ray Cyrus  0.653639"
      ],
      "text/html": [
       "<div>\n",
       "<style scoped>\n",
       "    .dataframe tbody tr th:only-of-type {\n",
       "        vertical-align: middle;\n",
       "    }\n",
       "\n",
       "    .dataframe tbody tr th {\n",
       "        vertical-align: top;\n",
       "    }\n",
       "\n",
       "    .dataframe thead th {\n",
       "        text-align: right;\n",
       "    }\n",
       "</style>\n",
       "<table border=\"1\" class=\"dataframe\">\n",
       "  <thead>\n",
       "    <tr style=\"text-align: right;\">\n",
       "      <th></th>\n",
       "      <th>names</th>\n",
       "      <th>distance</th>\n",
       "    </tr>\n",
       "  </thead>\n",
       "  <tbody>\n",
       "    <tr>\n",
       "      <th>317</th>\n",
       "      <td>Carrie Underwood</td>\n",
       "      <td>0.000000</td>\n",
       "    </tr>\n",
       "    <tr>\n",
       "      <th>29297</th>\n",
       "      <td>Kelly Clarkson</td>\n",
       "      <td>0.632841</td>\n",
       "    </tr>\n",
       "    <tr>\n",
       "      <th>508</th>\n",
       "      <td>Faith Hill</td>\n",
       "      <td>0.652212</td>\n",
       "    </tr>\n",
       "    <tr>\n",
       "      <th>27793</th>\n",
       "      <td>Adele</td>\n",
       "      <td>0.653539</td>\n",
       "    </tr>\n",
       "    <tr>\n",
       "      <th>38592</th>\n",
       "      <td>Billy Ray Cyrus</td>\n",
       "      <td>0.653639</td>\n",
       "    </tr>\n",
       "  </tbody>\n",
       "</table>\n",
       "</div>"
      ]
     },
     "execution_count": 165,
     "metadata": {},
     "output_type": "execute_result"
    }
   ],
   "execution_count": 165
  },
  {
   "metadata": {
    "ExecuteTime": {
     "end_time": "2025-06-22T03:45:01.080375800Z",
     "start_time": "2025-06-21T21:00:02.609208Z"
    }
   },
   "cell_type": "code",
   "source": [
    "# Виводимо текст для перших двох найближчих сусідів\n",
    "kelly_clarkson = people[people.name == \"Kelly Clarkson\"]\n",
    "kelly_clarkson.iloc[0].text"
   ],
   "id": "dea71fb72ff869b2",
   "outputs": [
    {
     "data": {
      "text/plain": [
       "'kelly brianne clarkson born april 24 1982 is an american singer and songwriter in 2002 she rose to fame after winning the first season of american idol and has since been established as the original american idol her debut single a moment like this topped the us billboard hot 100 and broke the record for the biggest jump to number one in the charts history it became the bestselling single of the year in the country she became the runnerup of world idol the following yearclarksons debut studio album thankful 2003 has been certified 2 platinum and sold over 45 million copies internationally its lead single miss independent became an international hit earning clarkson her first grammy nomination she developed a rockoriented sound with the release of her second album breakaway 2004 it has been certified 6 platinum and sold over 15 million copies worldwide earning clarkson two grammy awards including one for the hit single since u been gone she later took full creative direction of her third album my december 2007 which has been certified platinum its lead single never again became a top ten hit clarksons fourth album all i ever wanted 2009 debuted at number one and became a critical and commercial success its worldwide hit single my life would suck without you surpassed a moment like this for the biggest leap to number one on a single week in the history of the billboard hot 100 chart from number 97 a record it still holds today her fifth album stronger 2011 generated international charttopping singles mr know it all and stronger what doesnt kill you with the latter being the best selling american idol single to date with over five million copies worldwide becoming one of the bestselling singles of all time the album won the grammy award for best pop vocal album making clarkson the first and only artist to win the award twice in 2012 clarkson released greatest hits chapter one its lead single catch my breath became her twentyfourth entry on the hot 100 and eleventh millionselling single clarksons sixth album and first christmasthemed release wrapped in red 2013 became the bestselling holiday album of the year making her the first american female artist to achieve this goalin a career spanning over a decade clarkson has accumulated ninetyone number ones on the billboard charts and eleven international number one singles and has sold over 20 million albums worldwide she is known for her vocal versatility and range her music has mainly dealt with themes of heartbreak independence and selfempowerment for women and young teens apart from her work in music clarkson has also ventured into television and film clarksons film debut was in the romantic musical from justin to kelly 2003 and she also appeared in american dreams as brenda lee in reba on the voice as a guest advisor on duets as a mentor and judge clarksons musical work has also gained her numerous accolades including three grammy awards three mtv video music awards twelve billboard music awards four american music awards two academy of country music awards two american country awards and a womens world award in 2012 clarkson was ranked nineteenth on vh1s list of 100 greatest women in music in 2013 clarkson was ranked number 105 on joel whitburns top 500 artists of all time number 5 on both top billboard 200 female artists and adult contemporary artists number 27 on top billboard 200 artists and number 75 on billboards hot 100 top 100 artists billboard also ranked clarkson as the 14thbestselling artist of the 2000s and one of the top 200 album sellers of the nielsen soundscan era at number 187'"
      ]
     },
     "execution_count": 166,
     "metadata": {},
     "output_type": "execute_result"
    }
   ],
   "execution_count": 166
  },
  {
   "metadata": {
    "ExecuteTime": {
     "end_time": "2025-06-22T03:45:01.080375800Z",
     "start_time": "2025-06-21T21:00:02.670470Z"
    }
   },
   "cell_type": "code",
   "source": [
    "faith_hill = people[people.name == \"Faith Hill\"]\n",
    "faith_hill.iloc[0].text"
   ],
   "id": "95dc98a32a0f23fb",
   "outputs": [
    {
     "data": {
      "text/plain": [
       "'faith hill born audrey faith perry september 21 1967 is an american country pop singer and occasional actress she is one of the most successful country artists of all time having sold more than 40 million records worldwide hill is married to country singer tim mcgraw with whom she has recorded several successful duetshills first two albums take me as i am 1993 and it matters to me 1995 established her as a popular country singer they placed a combined three number ones on billboards country charts and were major successes in north america she later rose to mainstream crossover and international fame with the release of her next two albums faith 1998 and breathe 1999 faith spawned her first international hit this kiss and went multiplatinum in various countries breathe became her bestselling album to date and one of the bestselling country albums of all time with the huge crossover success of her signature song breathe it had massive sales worldwide and earned hill three grammy awards including best country album in 2001 she recorded there youll be for the pearl harbor soundtrack and it became an international hit and her bestselling single in europe hills next two albums cry 2002 and fireflies 2005 were both commercial successes and kept her mainstream popularity the former spawned another crossover single cry which won hill a grammy award and the latter produced the hit singles mississippi girl and like we never loved at all which earned her another grammy awardhill has won five grammy awards 15 academy of country music awards six american music awards and several other awards her soul2soul ii tour 2006 with mcgraw became the highestgrossing country tour of all time in 2001 she was named one of the 30 most powerful women in america by ladies home journal in 2009 billboard named her as the no 1 adult contemporary artist of the 2000 decade and also as the 39th best artist from 2007 to 2012 hill was the voice of nbc sunday night footballs intro song'"
      ]
     },
     "execution_count": 167,
     "metadata": {},
     "output_type": "execute_result"
    }
   ],
   "execution_count": 167
  },
  {
   "metadata": {},
   "cell_type": "markdown",
   "source": [
    "#### Інтерпретація результатів\n",
    "Найближчими сусідами є: Kelly Clarkson — відстань ≈ 0.63, Faith Hill — відстань ≈ 0.65.\n",
    "\n",
    "Це означає, що статті про Kelly Clarkson та Faith Hill найбільш схожі за вмістом на текст про Carrie Underwood з усієї вибірки.\n",
    "\n",
    "Після виведення змісту текстів, можна зрозуміти, що тексти мають семантичну схожість та переконатися в правильності роботи моделі."
   ],
   "id": "3efb7ccc306b68ff"
  }
 ],
 "metadata": {
  "kernelspec": {
   "display_name": "Python 3",
   "language": "python",
   "name": "python3"
  },
  "language_info": {
   "codemirror_mode": {
    "name": "ipython",
    "version": 2
   },
   "file_extension": ".py",
   "mimetype": "text/x-python",
   "name": "python",
   "nbconvert_exporter": "python",
   "pygments_lexer": "ipython2",
   "version": "2.7.6"
  }
 },
 "nbformat": 4,
 "nbformat_minor": 5
}
